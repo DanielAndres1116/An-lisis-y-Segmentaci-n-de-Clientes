{
 "cells": [
  {
   "cell_type": "markdown",
   "id": "75cd222d-4f72-4a9b-8962-72ee654cfc44",
   "metadata": {},
   "source": [
    "# Exploratory Data Analysis"
   ]
  },
  {
   "cell_type": "code",
   "execution_count": 1,
   "id": "432d2c58-d88f-4cf0-9040-6c143ca7dfff",
   "metadata": {},
   "outputs": [],
   "source": [
    "import pandas as pd\n",
    "import numpy as np\n",
    "\n",
    "%matplotlib inline\n",
    "import matplotlib as mpl\n",
    "import matplotlib.pyplot as plt\n",
    "import seaborn as sns"
   ]
  },
  {
   "cell_type": "code",
   "execution_count": 2,
   "id": "0f515e01-9a2b-42a3-85bd-a4cef83676f5",
   "metadata": {},
   "outputs": [
    {
     "data": {
      "text/html": [
       "<div>\n",
       "<style scoped>\n",
       "    .dataframe tbody tr th:only-of-type {\n",
       "        vertical-align: middle;\n",
       "    }\n",
       "\n",
       "    .dataframe tbody tr th {\n",
       "        vertical-align: top;\n",
       "    }\n",
       "\n",
       "    .dataframe thead th {\n",
       "        text-align: right;\n",
       "    }\n",
       "</style>\n",
       "<table border=\"1\" class=\"dataframe\">\n",
       "  <thead>\n",
       "    <tr style=\"text-align: right;\">\n",
       "      <th></th>\n",
       "      <th>ID</th>\n",
       "      <th>SEXO</th>\n",
       "      <th>ESTADO_CIVIL</th>\n",
       "      <th>EDAD</th>\n",
       "      <th>EDUCACION</th>\n",
       "      <th>INGRESO</th>\n",
       "      <th>OCUPACION</th>\n",
       "      <th>TAMAÑO_CIUDAD</th>\n",
       "      <th>Cantidad de Visitas</th>\n",
       "      <th>Dias sin Visita</th>\n",
       "      <th>...</th>\n",
       "      <th>Compras siendo igual el precio Marca 5</th>\n",
       "      <th>Compras al subir el precio Marca 5</th>\n",
       "      <th>Variacion del Precio en Compra Marca 1</th>\n",
       "      <th>Variacion del Precio en Compra Marca 2</th>\n",
       "      <th>Variacion del Precio en Compra Marca 3</th>\n",
       "      <th>Variacion del Precio en Compra Marca 4</th>\n",
       "      <th>Variacion del Precio en Compra Marca 5</th>\n",
       "      <th>Compras al Bajar Precio</th>\n",
       "      <th>Compras al Subir Precio</th>\n",
       "      <th>Compras siendo Igual el Precio</th>\n",
       "    </tr>\n",
       "  </thead>\n",
       "  <tbody>\n",
       "    <tr>\n",
       "      <th>0</th>\n",
       "      <td>200000001</td>\n",
       "      <td>0</td>\n",
       "      <td>0</td>\n",
       "      <td>47</td>\n",
       "      <td>1</td>\n",
       "      <td>110866</td>\n",
       "      <td>1</td>\n",
       "      <td>0</td>\n",
       "      <td>101</td>\n",
       "      <td>4</td>\n",
       "      <td>...</td>\n",
       "      <td>0</td>\n",
       "      <td>2</td>\n",
       "      <td>0.0</td>\n",
       "      <td>-0.000693</td>\n",
       "      <td>0.0</td>\n",
       "      <td>-0.003069</td>\n",
       "      <td>0.000396</td>\n",
       "      <td>3</td>\n",
       "      <td>3</td>\n",
       "      <td>3</td>\n",
       "    </tr>\n",
       "    <tr>\n",
       "      <th>1</th>\n",
       "      <td>200000002</td>\n",
       "      <td>1</td>\n",
       "      <td>1</td>\n",
       "      <td>52</td>\n",
       "      <td>2</td>\n",
       "      <td>159052</td>\n",
       "      <td>2</td>\n",
       "      <td>1</td>\n",
       "      <td>87</td>\n",
       "      <td>2</td>\n",
       "      <td>...</td>\n",
       "      <td>0</td>\n",
       "      <td>0</td>\n",
       "      <td>0.0</td>\n",
       "      <td>-0.003563</td>\n",
       "      <td>0.0</td>\n",
       "      <td>-0.002989</td>\n",
       "      <td>0.000000</td>\n",
       "      <td>4</td>\n",
       "      <td>2</td>\n",
       "      <td>5</td>\n",
       "    </tr>\n",
       "    <tr>\n",
       "      <th>2</th>\n",
       "      <td>200000003</td>\n",
       "      <td>0</td>\n",
       "      <td>0</td>\n",
       "      <td>28</td>\n",
       "      <td>0</td>\n",
       "      <td>113212</td>\n",
       "      <td>1</td>\n",
       "      <td>0</td>\n",
       "      <td>97</td>\n",
       "      <td>7</td>\n",
       "      <td>...</td>\n",
       "      <td>0</td>\n",
       "      <td>0</td>\n",
       "      <td>0.0</td>\n",
       "      <td>-0.002990</td>\n",
       "      <td>0.0</td>\n",
       "      <td>0.000000</td>\n",
       "      <td>-0.001753</td>\n",
       "      <td>5</td>\n",
       "      <td>3</td>\n",
       "      <td>2</td>\n",
       "    </tr>\n",
       "    <tr>\n",
       "      <th>3</th>\n",
       "      <td>200000004</td>\n",
       "      <td>0</td>\n",
       "      <td>0</td>\n",
       "      <td>37</td>\n",
       "      <td>1</td>\n",
       "      <td>119602</td>\n",
       "      <td>0</td>\n",
       "      <td>0</td>\n",
       "      <td>85</td>\n",
       "      <td>6</td>\n",
       "      <td>...</td>\n",
       "      <td>4</td>\n",
       "      <td>4</td>\n",
       "      <td>0.0</td>\n",
       "      <td>-0.003765</td>\n",
       "      <td>0.0</td>\n",
       "      <td>0.000000</td>\n",
       "      <td>-0.000824</td>\n",
       "      <td>3</td>\n",
       "      <td>4</td>\n",
       "      <td>4</td>\n",
       "    </tr>\n",
       "    <tr>\n",
       "      <th>4</th>\n",
       "      <td>200000005</td>\n",
       "      <td>0</td>\n",
       "      <td>0</td>\n",
       "      <td>49</td>\n",
       "      <td>1</td>\n",
       "      <td>121466</td>\n",
       "      <td>1</td>\n",
       "      <td>2</td>\n",
       "      <td>111</td>\n",
       "      <td>2</td>\n",
       "      <td>...</td>\n",
       "      <td>5</td>\n",
       "      <td>3</td>\n",
       "      <td>0.0</td>\n",
       "      <td>0.000000</td>\n",
       "      <td>0.0</td>\n",
       "      <td>0.000000</td>\n",
       "      <td>-0.001532</td>\n",
       "      <td>5</td>\n",
       "      <td>3</td>\n",
       "      <td>5</td>\n",
       "    </tr>\n",
       "  </tbody>\n",
       "</table>\n",
       "<p>5 rows × 82 columns</p>\n",
       "</div>"
      ],
      "text/plain": [
       "          ID  SEXO  ESTADO_CIVIL  EDAD  EDUCACION  INGRESO  OCUPACION  \\\n",
       "0  200000001     0             0    47          1   110866          1   \n",
       "1  200000002     1             1    52          2   159052          2   \n",
       "2  200000003     0             0    28          0   113212          1   \n",
       "3  200000004     0             0    37          1   119602          0   \n",
       "4  200000005     0             0    49          1   121466          1   \n",
       "\n",
       "   TAMAÑO_CIUDAD  Cantidad de Visitas  Dias sin Visita  ...  \\\n",
       "0              0                  101                4  ...   \n",
       "1              1                   87                2  ...   \n",
       "2              0                   97                7  ...   \n",
       "3              0                   85                6  ...   \n",
       "4              2                  111                2  ...   \n",
       "\n",
       "   Compras siendo igual el precio Marca 5  Compras al subir el precio Marca 5  \\\n",
       "0                                       0                                   2   \n",
       "1                                       0                                   0   \n",
       "2                                       0                                   0   \n",
       "3                                       4                                   4   \n",
       "4                                       5                                   3   \n",
       "\n",
       "   Variacion del Precio en Compra Marca 1  \\\n",
       "0                                     0.0   \n",
       "1                                     0.0   \n",
       "2                                     0.0   \n",
       "3                                     0.0   \n",
       "4                                     0.0   \n",
       "\n",
       "   Variacion del Precio en Compra Marca 2  \\\n",
       "0                               -0.000693   \n",
       "1                               -0.003563   \n",
       "2                               -0.002990   \n",
       "3                               -0.003765   \n",
       "4                                0.000000   \n",
       "\n",
       "   Variacion del Precio en Compra Marca 3  \\\n",
       "0                                     0.0   \n",
       "1                                     0.0   \n",
       "2                                     0.0   \n",
       "3                                     0.0   \n",
       "4                                     0.0   \n",
       "\n",
       "   Variacion del Precio en Compra Marca 4  \\\n",
       "0                               -0.003069   \n",
       "1                               -0.002989   \n",
       "2                                0.000000   \n",
       "3                                0.000000   \n",
       "4                                0.000000   \n",
       "\n",
       "   Variacion del Precio en Compra Marca 5  Compras al Bajar Precio  \\\n",
       "0                                0.000396                        3   \n",
       "1                                0.000000                        4   \n",
       "2                               -0.001753                        5   \n",
       "3                               -0.000824                        3   \n",
       "4                               -0.001532                        5   \n",
       "\n",
       "   Compras al Subir Precio  Compras siendo Igual el Precio  \n",
       "0                        3                               3  \n",
       "1                        2                               5  \n",
       "2                        3                               2  \n",
       "3                        4                               4  \n",
       "4                        3                               5  \n",
       "\n",
       "[5 rows x 82 columns]"
      ]
     },
     "execution_count": 2,
     "metadata": {},
     "output_type": "execute_result"
    }
   ],
   "source": [
    "path_file = \"DataframeFinal.xlsx\"\n",
    "df = pd.read_excel(path_file)\n",
    "df.head()"
   ]
  },
  {
   "cell_type": "code",
   "execution_count": 3,
   "id": "f9ebb115-8464-4213-b9b0-35510637183f",
   "metadata": {},
   "outputs": [],
   "source": [
    "valor_monetario_M1 = df['Valor Monetario Marca 1'].sum()\n",
    "valor_monetario_M2 = df['Valor Monetario Marca 2'].sum()\n",
    "valor_monetario_M3 = df['Valor Monetario Marca 3'].sum()\n",
    "valor_monetario_M4 = df['Valor Monetario Marca 4'].sum()\n",
    "valor_monetario_M5 = df['Valor Monetario Marca 5'].sum()\n",
    "\n",
    "lista_valor_monetario = [valor_monetario_M1, valor_monetario_M2, valor_monetario_M3, valor_monetario_M4, valor_monetario_M5]\n",
    "marcas_label = ['Marca 1', 'Marca 2', 'Marca 3', 'Marca 4', 'Marca 5']"
   ]
  },
  {
   "cell_type": "code",
   "execution_count": 4,
   "id": "28d6e639-c1f0-49b4-8d29-9fcf7b22a873",
   "metadata": {},
   "outputs": [
    {
     "data": {
      "text/plain": [
       "[6305.65,\n",
       " 21768.309999999998,\n",
       " 6021.5199999999995,\n",
       " 19040.100000000002,\n",
       " 29621.000000000007]"
      ]
     },
     "execution_count": 4,
     "metadata": {},
     "output_type": "execute_result"
    }
   ],
   "source": [
    "lista_valor_monetario "
   ]
  },
  {
   "cell_type": "markdown",
   "id": "85fcf7c8-d8fc-4241-ad73-096b51e3a60e",
   "metadata": {},
   "source": [
    "### Valor Monetario que cada Marca aporta a la empresa"
   ]
  },
  {
   "cell_type": "code",
   "execution_count": 5,
   "id": "cca066a9-d652-4ef5-bfd3-05be17def627",
   "metadata": {},
   "outputs": [
    {
     "data": {
      "image/png": "[encoded data removed]",
      "text/plain": [
       "<Figure size 432x288 with 1 Axes>"
      ]
     },
     "metadata": {},
     "output_type": "display_data"
    }
   ],
   "source": [
    "plt.pie(lista_valor_monetario, labels=marcas_label, autopct=\"%0.1f %%\")\n",
    "plt.axis(\"equal\")\n",
    "plt.show()"
   ]
  },
  {
   "cell_type": "code",
   "execution_count": 6,
   "id": "056724d3-fbc9-47c1-8eea-0bbda6736efe",
   "metadata": {},
   "outputs": [],
   "source": [
    "cantidad_vendida_M1 = df['Cantidad Marca 1'].sum()\n",
    "cantidad_vendida_M2 = df['Cantidad Marca 2'].sum()\n",
    "cantidad_vendida_M3 = df['Cantidad Marca 3'].sum()\n",
    "cantidad_vendida_M4 = df['Cantidad Marca 4'].sum()\n",
    "cantidad_vendida_M5 = df['Cantidad Marca 5'].sum()\n",
    "\n",
    "lista_cantidad_vendida = [cantidad_vendida_M1, cantidad_vendida_M2, cantidad_vendida_M3, cantidad_vendida_M4, cantidad_vendida_M5]\n",
    "marcas_label = ['Marca 1', 'Marca 2', 'Marca 3', 'Marca 4', 'Marca 5']"
   ]
  },
  {
   "cell_type": "markdown",
   "id": "3b85e111-25f0-4be7-981e-8281d7709617",
   "metadata": {},
   "source": [
    "### Cantidad Vendida por cada Marca"
   ]
  },
  {
   "cell_type": "code",
   "execution_count": 7,
   "id": "4c087e9c-db99-40d9-85a7-f36bbda7b814",
   "metadata": {},
   "outputs": [
    {
     "data": {
      "image/png": "[encoded data removed]",
      "text/plain": [
       "<Figure size 432x288 with 1 Axes>"
      ]
     },
     "metadata": {
      "needs_background": "light"
     },
     "output_type": "display_data"
    }
   ],
   "source": [
    "plt.bar(marcas_label, lista_cantidad_vendida) \n",
    "plt.ylabel('Cantidad Vendida')\n",
    "plt.xlabel('Marcas')\n",
    "plt.title('Cantidad de Productos Vendidos por cada Marca')\n",
    "plt.show()"
   ]
  },
  {
   "cell_type": "code",
   "execution_count": 8,
   "id": "c62f21ad-f12b-4acf-a4f1-a2cc2295e259",
   "metadata": {},
   "outputs": [
    {
     "data": {
      "text/html": [
       "<div>\n",
       "<style scoped>\n",
       "    .dataframe tbody tr th:only-of-type {\n",
       "        vertical-align: middle;\n",
       "    }\n",
       "\n",
       "    .dataframe tbody tr th {\n",
       "        vertical-align: top;\n",
       "    }\n",
       "\n",
       "    .dataframe thead th {\n",
       "        text-align: right;\n",
       "    }\n",
       "</style>\n",
       "<table border=\"1\" class=\"dataframe\">\n",
       "  <thead>\n",
       "    <tr style=\"text-align: right;\">\n",
       "      <th></th>\n",
       "      <th>ID</th>\n",
       "      <th>DIA</th>\n",
       "      <th>INCIDENCIA</th>\n",
       "      <th>MARCA</th>\n",
       "      <th>CANTIDAD</th>\n",
       "      <th>ULTIMA_VENTA_MARCA</th>\n",
       "      <th>PRECIO_1</th>\n",
       "      <th>PRECIO_2</th>\n",
       "      <th>PRECIO_3</th>\n",
       "      <th>PRECIO_4</th>\n",
       "      <th>...</th>\n",
       "      <th>PROMOCION_3</th>\n",
       "      <th>PROMOCION_4</th>\n",
       "      <th>PROMOCION_5</th>\n",
       "      <th>SEXO</th>\n",
       "      <th>ESTADO_CIVIL</th>\n",
       "      <th>EDAD</th>\n",
       "      <th>EDUCACION</th>\n",
       "      <th>INGRESO</th>\n",
       "      <th>OCUPACION</th>\n",
       "      <th>TAMAÑO_CIUDAD</th>\n",
       "    </tr>\n",
       "  </thead>\n",
       "  <tbody>\n",
       "    <tr>\n",
       "      <th>0</th>\n",
       "      <td>200000001</td>\n",
       "      <td>1</td>\n",
       "      <td>0</td>\n",
       "      <td>0</td>\n",
       "      <td>0</td>\n",
       "      <td>0</td>\n",
       "      <td>1.59</td>\n",
       "      <td>1.87</td>\n",
       "      <td>2.01</td>\n",
       "      <td>2.09</td>\n",
       "      <td>...</td>\n",
       "      <td>0</td>\n",
       "      <td>0</td>\n",
       "      <td>0</td>\n",
       "      <td>0</td>\n",
       "      <td>0</td>\n",
       "      <td>47</td>\n",
       "      <td>1</td>\n",
       "      <td>110866</td>\n",
       "      <td>1</td>\n",
       "      <td>0</td>\n",
       "    </tr>\n",
       "    <tr>\n",
       "      <th>1</th>\n",
       "      <td>200000001</td>\n",
       "      <td>11</td>\n",
       "      <td>0</td>\n",
       "      <td>0</td>\n",
       "      <td>0</td>\n",
       "      <td>0</td>\n",
       "      <td>1.51</td>\n",
       "      <td>1.89</td>\n",
       "      <td>1.99</td>\n",
       "      <td>2.09</td>\n",
       "      <td>...</td>\n",
       "      <td>0</td>\n",
       "      <td>0</td>\n",
       "      <td>0</td>\n",
       "      <td>0</td>\n",
       "      <td>0</td>\n",
       "      <td>47</td>\n",
       "      <td>1</td>\n",
       "      <td>110866</td>\n",
       "      <td>1</td>\n",
       "      <td>0</td>\n",
       "    </tr>\n",
       "    <tr>\n",
       "      <th>2</th>\n",
       "      <td>200000001</td>\n",
       "      <td>12</td>\n",
       "      <td>0</td>\n",
       "      <td>0</td>\n",
       "      <td>0</td>\n",
       "      <td>0</td>\n",
       "      <td>1.51</td>\n",
       "      <td>1.89</td>\n",
       "      <td>1.99</td>\n",
       "      <td>2.09</td>\n",
       "      <td>...</td>\n",
       "      <td>0</td>\n",
       "      <td>0</td>\n",
       "      <td>0</td>\n",
       "      <td>0</td>\n",
       "      <td>0</td>\n",
       "      <td>47</td>\n",
       "      <td>1</td>\n",
       "      <td>110866</td>\n",
       "      <td>1</td>\n",
       "      <td>0</td>\n",
       "    </tr>\n",
       "    <tr>\n",
       "      <th>3</th>\n",
       "      <td>200000001</td>\n",
       "      <td>16</td>\n",
       "      <td>0</td>\n",
       "      <td>0</td>\n",
       "      <td>0</td>\n",
       "      <td>0</td>\n",
       "      <td>1.52</td>\n",
       "      <td>1.89</td>\n",
       "      <td>1.98</td>\n",
       "      <td>2.09</td>\n",
       "      <td>...</td>\n",
       "      <td>0</td>\n",
       "      <td>0</td>\n",
       "      <td>0</td>\n",
       "      <td>0</td>\n",
       "      <td>0</td>\n",
       "      <td>47</td>\n",
       "      <td>1</td>\n",
       "      <td>110866</td>\n",
       "      <td>1</td>\n",
       "      <td>0</td>\n",
       "    </tr>\n",
       "    <tr>\n",
       "      <th>4</th>\n",
       "      <td>200000001</td>\n",
       "      <td>18</td>\n",
       "      <td>0</td>\n",
       "      <td>0</td>\n",
       "      <td>0</td>\n",
       "      <td>0</td>\n",
       "      <td>1.52</td>\n",
       "      <td>1.89</td>\n",
       "      <td>1.99</td>\n",
       "      <td>2.09</td>\n",
       "      <td>...</td>\n",
       "      <td>0</td>\n",
       "      <td>0</td>\n",
       "      <td>0</td>\n",
       "      <td>0</td>\n",
       "      <td>0</td>\n",
       "      <td>47</td>\n",
       "      <td>1</td>\n",
       "      <td>110866</td>\n",
       "      <td>1</td>\n",
       "      <td>0</td>\n",
       "    </tr>\n",
       "  </tbody>\n",
       "</table>\n",
       "<p>5 rows × 23 columns</p>\n",
       "</div>"
      ],
      "text/plain": [
       "          ID  DIA  INCIDENCIA  MARCA  CANTIDAD  ULTIMA_VENTA_MARCA  PRECIO_1  \\\n",
       "0  200000001    1           0      0         0                   0      1.59   \n",
       "1  200000001   11           0      0         0                   0      1.51   \n",
       "2  200000001   12           0      0         0                   0      1.51   \n",
       "3  200000001   16           0      0         0                   0      1.52   \n",
       "4  200000001   18           0      0         0                   0      1.52   \n",
       "\n",
       "   PRECIO_2  PRECIO_3  PRECIO_4  ...  PROMOCION_3  PROMOCION_4  PROMOCION_5  \\\n",
       "0      1.87      2.01      2.09  ...            0            0            0   \n",
       "1      1.89      1.99      2.09  ...            0            0            0   \n",
       "2      1.89      1.99      2.09  ...            0            0            0   \n",
       "3      1.89      1.98      2.09  ...            0            0            0   \n",
       "4      1.89      1.99      2.09  ...            0            0            0   \n",
       "\n",
       "   SEXO  ESTADO_CIVIL  EDAD  EDUCACION  INGRESO  OCUPACION  TAMAÑO_CIUDAD  \n",
       "0     0             0    47          1   110866          1              0  \n",
       "1     0             0    47          1   110866          1              0  \n",
       "2     0             0    47          1   110866          1              0  \n",
       "3     0             0    47          1   110866          1              0  \n",
       "4     0             0    47          1   110866          1              0  \n",
       "\n",
       "[5 rows x 23 columns]"
      ]
     },
     "execution_count": 8,
     "metadata": {},
     "output_type": "execute_result"
    }
   ],
   "source": [
    "path_file = \"Base y archivo de respuestas.xlsx\"\n",
    "hoja = \"BASE\"\n",
    "df_otra = pd.read_excel(path_file, sheet_name=hoja)\n",
    "df_otra.head()"
   ]
  },
  {
   "cell_type": "code",
   "execution_count": 9,
   "id": "9376aef4-3857-425b-a255-b9fc678a9a60",
   "metadata": {},
   "outputs": [],
   "source": [
    "precio_M1 = df_otra['PRECIO_1'].mean()\n",
    "precio_M2 = df_otra['PRECIO_2'].mean()\n",
    "precio_M3 = df_otra['PRECIO_3'].mean()\n",
    "precio_M4 = df_otra['PRECIO_4'].mean()\n",
    "precio_M5 = df_otra['PRECIO_5'].mean()\n",
    "\n",
    "lista_precios = [precio_M1, precio_M2, precio_M3, precio_M4, precio_M5]\n",
    "marcas_label_precios = ['Marca 1', 'Marca 2', 'Marca 3', 'Marca 4', 'Marca 5']"
   ]
  },
  {
   "cell_type": "markdown",
   "id": "8b731f0d-2d74-4418-924d-a42d97bd1865",
   "metadata": {},
   "source": [
    "### Precio promedio por marca"
   ]
  },
  {
   "cell_type": "code",
   "execution_count": 10,
   "id": "e7ea8ed3-35a9-48c6-b938-f4f6463930c1",
   "metadata": {},
   "outputs": [
    {
     "data": {
      "image/png": "[encoded data removed]",
      "text/plain": [
       "<Figure size 432x288 with 1 Axes>"
      ]
     },
     "metadata": {
      "needs_background": "light"
     },
     "output_type": "display_data"
    }
   ],
   "source": [
    "plt.bar(marcas_label_precios, lista_precios) \n",
    "plt.ylabel('Precio Promedio')\n",
    "plt.xlabel('Marcas')\n",
    "plt.show()"
   ]
  },
  {
   "cell_type": "code",
   "execution_count": 11,
   "id": "02cda697-980e-4cea-9de1-68a79d81d112",
   "metadata": {},
   "outputs": [],
   "source": [
    "compras_baja_precio = df['Compras al Bajar Precio'].sum()\n",
    "compras_igual_precio = df['Compras siendo Igual el Precio'].sum()\n",
    "compras_sube_precio = df['Compras al Subir Precio'].sum()\n",
    "\n",
    "lista_compras_variacion_precio = [compras_baja_precio, compras_igual_precio, compras_sube_precio]\n",
    "marcas_compras = ['Compras al Bajar el Precio', 'Compras siendo Igual el precio', 'Compras al Subir el Precio']"
   ]
  },
  {
   "cell_type": "code",
   "execution_count": 12,
   "id": "9df8251b-4e6e-47e5-9e80-29cc8d34b049",
   "metadata": {},
   "outputs": [
    {
     "data": {
      "text/plain": [
       "[4452, 7093, 3093]"
      ]
     },
     "execution_count": 12,
     "metadata": {},
     "output_type": "execute_result"
    }
   ],
   "source": [
    "lista_compras_variacion_precio"
   ]
  },
  {
   "cell_type": "markdown",
   "id": "6095ea3e-2f8e-4a9b-a14c-4f3aff560498",
   "metadata": {},
   "source": [
    "### Porcentajes de Compras que se hicieron tras: bajar el precio del producto, subir el precio del producto, mantener igual el precio del producto."
   ]
  },
  {
   "cell_type": "code",
   "execution_count": 13,
   "id": "5875028e-e84a-48c0-a8c9-9dfd1cba87d2",
   "metadata": {},
   "outputs": [
    {
     "data": {
      "image/png": "[encoded data removed]",
      "text/plain": [
       "<Figure size 432x288 with 1 Axes>"
      ]
     },
     "metadata": {},
     "output_type": "display_data"
    }
   ],
   "source": [
    "plt.pie(lista_compras_variacion_precio, labels=marcas_compras, autopct=\"%0.1f %%\")\n",
    "plt.axis(\"equal\")\n",
    "plt.show()"
   ]
  },
  {
   "cell_type": "code",
   "execution_count": 14,
   "id": "48dea115-f4be-41fc-9ba7-01bf1cfe38aa",
   "metadata": {},
   "outputs": [],
   "source": [
    "compras_baja_precio_M5 = df['Compras al bajar el precio Marca 5'].sum()\n",
    "compras_igual_precio_M5 = df['Compras siendo igual el precio Marca 5'].sum()\n",
    "compras_sube_precio_M5 = df['Compras al subir el precio Marca 5'].sum()\n",
    "\n",
    "compras_baja_precio_M2 = df['Compras al bajar el precio Marca 2'].sum()\n",
    "compras_igual_precio_M2 = df['Compras siendo igual el precio Marca 2'].sum()\n",
    "compras_sube_precio_M2 = df['Compras al subir el precio Marca 2'].sum()\n",
    "\n",
    "compras_baja_precio_M3 = df['Compras al bajar el precio Marca 3'].sum()\n",
    "compras_igual_precio_M3 = df['Compras siendo igual el precio Marca 3'].sum()\n",
    "compras_sube_precio_M3 = df['Compras al subir el precio Marca 3'].sum()\n",
    "\n",
    "lista_compras_variacion_precio5 = [compras_baja_precio_M5, compras_igual_precio_M5, compras_sube_precio_M5]\n",
    "lista_compras_variacion_precio2 = [compras_baja_precio_M2, compras_igual_precio_M2, compras_sube_precio_M2]\n",
    "lista_compras_variacion_precio3 = [compras_baja_precio_M3, compras_igual_precio_M3, compras_sube_precio_M3]\n",
    "marcas_compras_5 = ['Compras al Bajar el Precio en la Marca 5', 'Compras siendo Igual el precio en la Marca 5', 'Compras al Subir el Precio en la Marca 5']\n",
    "marcas_compras_2 = ['Compras al Bajar el Precio en la Marca 2', 'Compras siendo Igual el precio en la Marca 2', 'Compras al Subir el Precio en la Marca 2']\n",
    "marcas_compras_3 = ['Compras al Bajar el Precio en la Marca 3', 'Compras siendo Igual el precio en la Marca 3', 'Compras al Subir el Precio en la Marca 3']"
   ]
  },
  {
   "cell_type": "markdown",
   "id": "71f5f1d3-f2b8-49f5-8823-15cb60582ffc",
   "metadata": {},
   "source": [
    "### Porcentajes de Compras que se hicieron tras: bajar el precio del producto 5, subir el precio del producto 5, mantener igual el precio del producto 5."
   ]
  },
  {
   "cell_type": "code",
   "execution_count": 15,
   "id": "55c551b4-cef6-40c3-9816-5f4722885ca5",
   "metadata": {},
   "outputs": [
    {
     "data": {
      "image/png": "[encoded data removed]",
      "text/plain": [
       "<Figure size 432x288 with 1 Axes>"
      ]
     },
     "metadata": {},
     "output_type": "display_data"
    }
   ],
   "source": [
    "plt.pie(lista_compras_variacion_precio5, labels=marcas_compras, autopct=\"%0.1f %%\")\n",
    "plt.axis(\"equal\")\n",
    "plt.show()"
   ]
  },
  {
   "cell_type": "code",
   "execution_count": 16,
   "id": "3ba965a9-cce8-4b6a-97e6-8765eb1b83dc",
   "metadata": {},
   "outputs": [
    {
     "data": {
      "text/plain": [
       "[1439, 2239, 1300]"
      ]
     },
     "execution_count": 16,
     "metadata": {},
     "output_type": "execute_result"
    }
   ],
   "source": [
    "lista_compras_variacion_precio5"
   ]
  },
  {
   "cell_type": "markdown",
   "id": "606c3345-9343-4656-b652-eff43acb40a3",
   "metadata": {},
   "source": [
    "### Porcentajes de Compras que se hicieron tras: bajar el precio del producto 2, subir el precio del producto 2, mantener igual el precio del producto 2."
   ]
  },
  {
   "cell_type": "code",
   "execution_count": 17,
   "id": "79c32d2f-8f4e-4e05-a17f-413121725da1",
   "metadata": {},
   "outputs": [
    {
     "data": {
      "image/png": "[encoded data removed]",
      "text/plain": [
       "<Figure size 432x288 with 1 Axes>"
      ]
     },
     "metadata": {},
     "output_type": "display_data"
    }
   ],
   "source": [
    "plt.pie(lista_compras_variacion_precio2, labels=marcas_compras, autopct=\"%0.1f %%\")\n",
    "plt.axis(\"equal\")\n",
    "plt.show()"
   ]
  },
  {
   "cell_type": "code",
   "execution_count": 18,
   "id": "7e257ebc-3fed-47d4-9e70-1822dc2ef014",
   "metadata": {},
   "outputs": [
    {
     "data": {
      "text/plain": [
       "[1714, 1934, 894]"
      ]
     },
     "execution_count": 18,
     "metadata": {},
     "output_type": "execute_result"
    }
   ],
   "source": [
    "lista_compras_variacion_precio2"
   ]
  },
  {
   "cell_type": "markdown",
   "id": "6eb40f5e-e282-4c61-a5e5-963bd3f82b8a",
   "metadata": {},
   "source": [
    "### Porcentajes de Compras que se hicieron tras: bajar el precio del producto 3, subir el precio del producto 3, mantener igual el precio del producto 3."
   ]
  },
  {
   "cell_type": "code",
   "execution_count": 19,
   "id": "b2496d99-d243-422e-87ac-cad881e2f6c3",
   "metadata": {},
   "outputs": [
    {
     "data": {
      "image/png": "[encoded data removed]",
      "text/plain": [
       "<Figure size 432x288 with 1 Axes>"
      ]
     },
     "metadata": {},
     "output_type": "display_data"
    }
   ],
   "source": [
    "plt.pie(lista_compras_variacion_precio3, labels=marcas_compras, autopct=\"%0.1f %%\")\n",
    "plt.axis(\"equal\")\n",
    "plt.show()"
   ]
  },
  {
   "cell_type": "code",
   "execution_count": 20,
   "id": "add5e74f-bd32-42b4-a054-cab217160b00",
   "metadata": {},
   "outputs": [
    {
     "data": {
      "text/plain": [
       "[176, 508, 157]"
      ]
     },
     "execution_count": 20,
     "metadata": {},
     "output_type": "execute_result"
    }
   ],
   "source": [
    "lista_compras_variacion_precio3"
   ]
  },
  {
   "cell_type": "code",
   "execution_count": 21,
   "id": "f940b50e-b570-4dc5-bd8f-10ab8a2d0894",
   "metadata": {},
   "outputs": [],
   "source": [
    "promociones_ventas_M5 = df['Ventas Efectivas Prom Marca 1'].sum()\n",
    "promociones_no_ventas_M5 = df['Promociones durante Visitas Marca 5'].sum() - promociones_ventas_M5\n",
    "promociones_ventas_M2 = df['Ventas Efectivas Prom Marca 2'].sum()\n",
    "promociones_no_ventas_M2 = df['Promociones durante Visitas Marca 2'].sum() - promociones_ventas_M2\n",
    "promociones_ventas_M3 = df['Ventas Efectivas Prom Marca 3'].sum()\n",
    "promociones_no_ventas_M3 = df['Promociones durante Visitas Marca 3'].sum() - promociones_ventas_M3\n",
    "\n",
    "lista_promociones_ventas_M5 = [promociones_ventas_M5, promociones_no_ventas_M5]\n",
    "lista_promociones_ventas_M2 = [promociones_ventas_M2, promociones_no_ventas_M2]\n",
    "lista_promociones_ventas_M3 = [promociones_ventas_M3, promociones_no_ventas_M3]\n",
    "marcas_promociones_ventas = ['Promociones Exitosas', 'Promociones sin Venta']"
   ]
  },
  {
   "cell_type": "markdown",
   "id": "6b19baa4-450b-420c-9f12-06dbc38ff3a1",
   "metadata": {},
   "source": [
    "### Proporción de promociones exitosas para la marca 5"
   ]
  },
  {
   "cell_type": "code",
   "execution_count": 22,
   "id": "3e0d5fe6-2d95-491c-8c04-edca01c96cf1",
   "metadata": {},
   "outputs": [
    {
     "data": {
      "image/png": "[encoded data removed]",
      "text/plain": [
       "<Figure size 432x288 with 1 Axes>"
      ]
     },
     "metadata": {},
     "output_type": "display_data"
    }
   ],
   "source": [
    "plt.pie(lista_promociones_ventas_M5, labels=marcas_promociones_ventas, autopct=\"%0.1f %%\")\n",
    "plt.axis(\"equal\")\n",
    "plt.show()"
   ]
  },
  {
   "cell_type": "code",
   "execution_count": 23,
   "id": "6e76f309-80f6-41af-b92d-24a6f1bcf1ec",
   "metadata": {},
   "outputs": [
    {
     "data": {
      "text/plain": [
       "[527, 1578]"
      ]
     },
     "execution_count": 23,
     "metadata": {},
     "output_type": "execute_result"
    }
   ],
   "source": [
    "lista_promociones_ventas_M5"
   ]
  },
  {
   "cell_type": "markdown",
   "id": "5583ca85-63ab-4a8a-a023-c645f4d26b1c",
   "metadata": {},
   "source": [
    "### Proporción de promociones exitosas para la marca 2"
   ]
  },
  {
   "cell_type": "code",
   "execution_count": 24,
   "id": "e337bd10-0ded-4b6a-b3f0-1389a1725b21",
   "metadata": {},
   "outputs": [
    {
     "data": {
      "image/png": "[encoded data removed]",
      "text/plain": [
       "<Figure size 432x288 with 1 Axes>"
      ]
     },
     "metadata": {},
     "output_type": "display_data"
    }
   ],
   "source": [
    "plt.pie(lista_promociones_ventas_M2, labels=marcas_promociones_ventas, autopct=\"%0.1f %%\")\n",
    "plt.axis(\"equal\")\n",
    "plt.show()"
   ]
  },
  {
   "cell_type": "code",
   "execution_count": 25,
   "id": "b80dd729-da61-4602-8d63-684ecc421703",
   "metadata": {},
   "outputs": [
    {
     "data": {
      "text/plain": [
       "[1946, 16578]"
      ]
     },
     "execution_count": 25,
     "metadata": {},
     "output_type": "execute_result"
    }
   ],
   "source": [
    "lista_promociones_ventas_M2"
   ]
  },
  {
   "cell_type": "markdown",
   "id": "8dffd958-a1f8-455c-ba4f-0c167f26f9f9",
   "metadata": {},
   "source": [
    "### Proporción de promociones exitosas para la marca 3"
   ]
  },
  {
   "cell_type": "code",
   "execution_count": 26,
   "id": "f374e3ea-382e-46df-9ff5-cc74ffd71caf",
   "metadata": {},
   "outputs": [
    {
     "data": {
      "image/png": "[encoded data removed]",
      "text/plain": [
       "<Figure size 432x288 with 1 Axes>"
      ]
     },
     "metadata": {},
     "output_type": "display_data"
    }
   ],
   "source": [
    "plt.pie(lista_promociones_ventas_M3, labels=marcas_promociones_ventas, autopct=\"%0.1f %%\")\n",
    "plt.axis(\"equal\")\n",
    "plt.show()"
   ]
  },
  {
   "cell_type": "code",
   "execution_count": 27,
   "id": "34dda21f-9b22-486b-a573-afabd68a9186",
   "metadata": {},
   "outputs": [
    {
     "data": {
      "text/plain": [
       "[66, 2446]"
      ]
     },
     "execution_count": 27,
     "metadata": {},
     "output_type": "execute_result"
    }
   ],
   "source": [
    "lista_promociones_ventas_M3"
   ]
  },
  {
   "cell_type": "code",
   "execution_count": 28,
   "id": "d6c859ec-e56b-4386-ab9c-869b20906e09",
   "metadata": {},
   "outputs": [],
   "source": [
    "compras_enProm_M5 = df['Compras en Prom Marca 5'].sum()\n",
    "compras_sinProm_M5 = df['Cantidad Marca 5'].sum() - compras_enProm_M5\n",
    "compras_enProm_M2 = df['Compras en Prom Marca 2'].sum()\n",
    "compras_sinProm_M2 = df['Cantidad Marca 2'].sum() - compras_enProm_M2\n",
    "compras_enProm_M3 = df['Compras en Prom Marca 3'].sum()\n",
    "compras_sinProm_M3 = df['Cantidad Marca 3'].sum() - compras_enProm_M3\n",
    "\n",
    "lista_ventas_prom_M5 = [compras_enProm_M5, compras_sinProm_M5]\n",
    "lista_ventas_prom_M2 = [compras_enProm_M2, compras_sinProm_M2]\n",
    "lista_ventas_prom_M3 = [compras_enProm_M3, compras_sinProm_M3]\n",
    "marcas_promocionesYventas = ['Ventas en Promociones', 'Ventas Fuera de Promociones']"
   ]
  },
  {
   "cell_type": "markdown",
   "id": "017b7b8f-c89d-4405-817f-6b652d02861d",
   "metadata": {},
   "source": [
    "### Cantidad Vendida en Promociones y fuera de Promociones para la Marca 5"
   ]
  },
  {
   "cell_type": "code",
   "execution_count": 29,
   "id": "b6210ab4-86fe-4bc3-ad4f-17ef36f0b382",
   "metadata": {},
   "outputs": [
    {
     "data": {
      "image/png": "[encoded data removed]",
      "text/plain": [
       "<Figure size 432x288 with 1 Axes>"
      ]
     },
     "metadata": {
      "needs_background": "light"
     },
     "output_type": "display_data"
    }
   ],
   "source": [
    "plt.bar(marcas_promocionesYventas, lista_ventas_prom_M5) \n",
    "plt.ylabel('Cantidad Vendida')\n",
    "#plt.xlabel('Marcas')\n",
    "plt.show()"
   ]
  },
  {
   "cell_type": "code",
   "execution_count": 30,
   "id": "af4b300a-84fe-48bd-adf9-3614cb45b347",
   "metadata": {},
   "outputs": [
    {
     "data": {
      "text/plain": [
       "[802, 10396]"
      ]
     },
     "execution_count": 30,
     "metadata": {},
     "output_type": "execute_result"
    }
   ],
   "source": [
    "lista_ventas_prom_M5"
   ]
  },
  {
   "cell_type": "markdown",
   "id": "7b750f3f-6f02-44a9-96fe-3b29559414e3",
   "metadata": {},
   "source": [
    "### Cantidad Vendida en Promociones y fuera de Promociones para la Marca 2"
   ]
  },
  {
   "cell_type": "code",
   "execution_count": 31,
   "id": "ad0a2796-3f2e-4990-88d9-12635dbe8db2",
   "metadata": {},
   "outputs": [
    {
     "data": {
      "image/png": "[encoded data removed]",
      "text/plain": [
       "<Figure size 432x288 with 1 Axes>"
      ]
     },
     "metadata": {
      "needs_background": "light"
     },
     "output_type": "display_data"
    }
   ],
   "source": [
    "plt.bar(marcas_promocionesYventas, lista_ventas_prom_M2) \n",
    "plt.ylabel('Cantidad Vendida')\n",
    "#plt.xlabel('Marcas')\n",
    "plt.show()"
   ]
  },
  {
   "cell_type": "code",
   "execution_count": 32,
   "id": "25266386-db88-4edb-8720-c8a01961360d",
   "metadata": {},
   "outputs": [
    {
     "data": {
      "text/plain": [
       "[5775, 7053]"
      ]
     },
     "execution_count": 32,
     "metadata": {},
     "output_type": "execute_result"
    }
   ],
   "source": [
    "lista_ventas_prom_M2"
   ]
  },
  {
   "cell_type": "markdown",
   "id": "662bcadd-bc91-43dd-a1db-938401089fa7",
   "metadata": {},
   "source": [
    "### Cantidad Vendida en Promociones y fuera de Promociones para la Marca 3"
   ]
  },
  {
   "cell_type": "code",
   "execution_count": 33,
   "id": "7cd5e92f-41f2-4747-8a4b-ae5789500fdc",
   "metadata": {},
   "outputs": [
    {
     "data": {
      "image/png": "[encoded data removed]",
      "text/plain": [
       "<Figure size 432x288 with 1 Axes>"
      ]
     },
     "metadata": {
      "needs_background": "light"
     },
     "output_type": "display_data"
    }
   ],
   "source": [
    "plt.bar(marcas_promocionesYventas, lista_ventas_prom_M3) \n",
    "plt.ylabel('Cantidad Vendida')\n",
    "#plt.xlabel('Marcas')\n",
    "plt.show()"
   ]
  },
  {
   "cell_type": "code",
   "execution_count": 34,
   "id": "745d9051-9e5a-4efb-a917-52cd92e4c48d",
   "metadata": {},
   "outputs": [
    {
     "data": {
      "text/plain": [
       "[247, 2747]"
      ]
     },
     "execution_count": 34,
     "metadata": {},
     "output_type": "execute_result"
    }
   ],
   "source": [
    "lista_ventas_prom_M3"
   ]
  },
  {
   "cell_type": "markdown",
   "id": "07adbd51-4332-4077-a1c1-dd4d21aaf155",
   "metadata": {},
   "source": [
    "### Cantidad de Clientes según Edad"
   ]
  },
  {
   "cell_type": "code",
   "execution_count": 35,
   "id": "17259ad0-1bcb-4c81-945c-62eaa7a70e96",
   "metadata": {},
   "outputs": [
    {
     "name": "stderr",
     "output_type": "stream",
     "text": [
      "c:\\python36\\lib\\site-packages\\seaborn\\_decorators.py:43: FutureWarning: Pass the following variable as a keyword arg: x. From version 0.12, the only valid positional argument will be `data`, and passing other arguments without an explicit keyword will result in an error or misinterpretation.\n",
      "  FutureWarning\n"
     ]
    },
    {
     "data": {
      "text/plain": [
       "<AxesSubplot:xlabel='EDAD', ylabel='count'>"
      ]
     },
     "execution_count": 35,
     "metadata": {},
     "output_type": "execute_result"
    },
    {
     "data": {
      "image/png": "[encoded data removed]",
      "text/plain": [
       "<Figure size 1440x720 with 1 Axes>"
      ]
     },
     "metadata": {
      "needs_background": "light"
     },
     "output_type": "display_data"
    }
   ],
   "source": [
    "plt.figure(figsize=(20, 10))\n",
    "plt.tight_layout()\n",
    "sns.countplot(df['EDAD'])"
   ]
  },
  {
   "cell_type": "code",
   "execution_count": 36,
   "id": "335340fc-54c4-42da-9c34-a128f6b01fda",
   "metadata": {},
   "outputs": [
    {
     "data": {
      "text/plain": [
       "array([ 38247.        ,  68371.11111111,  98495.22222222, 128619.33333333,\n",
       "       158743.44444444, 188867.55555556, 218991.66666667, 249115.77777778,\n",
       "       279239.88888889, 309364.        ])"
      ]
     },
     "execution_count": 36,
     "metadata": {},
     "output_type": "execute_result"
    }
   ],
   "source": [
    "df[\"INGRESO\"]=df[\"INGRESO\"].astype(int, copy=True)\n",
    "bins = np.linspace(min(df[\"INGRESO\"]), max(df[\"INGRESO\"]), 10)\n",
    "bins"
   ]
  },
  {
   "cell_type": "code",
   "execution_count": 37,
   "id": "c230e5ab-7a37-4ca3-a8b6-783d27d5a21f",
   "metadata": {},
   "outputs": [
    {
     "data": {
      "text/html": [
       "<div>\n",
       "<style scoped>\n",
       "    .dataframe tbody tr th:only-of-type {\n",
       "        vertical-align: middle;\n",
       "    }\n",
       "\n",
       "    .dataframe tbody tr th {\n",
       "        vertical-align: top;\n",
       "    }\n",
       "\n",
       "    .dataframe thead th {\n",
       "        text-align: right;\n",
       "    }\n",
       "</style>\n",
       "<table border=\"1\" class=\"dataframe\">\n",
       "  <thead>\n",
       "    <tr style=\"text-align: right;\">\n",
       "      <th></th>\n",
       "      <th>INGRESO</th>\n",
       "      <th>ingreso-segmentado</th>\n",
       "    </tr>\n",
       "  </thead>\n",
       "  <tbody>\n",
       "    <tr>\n",
       "      <th>0</th>\n",
       "      <td>110866</td>\n",
       "      <td>3</td>\n",
       "    </tr>\n",
       "    <tr>\n",
       "      <th>1</th>\n",
       "      <td>159052</td>\n",
       "      <td>5</td>\n",
       "    </tr>\n",
       "    <tr>\n",
       "      <th>2</th>\n",
       "      <td>113212</td>\n",
       "      <td>3</td>\n",
       "    </tr>\n",
       "    <tr>\n",
       "      <th>3</th>\n",
       "      <td>119602</td>\n",
       "      <td>3</td>\n",
       "    </tr>\n",
       "    <tr>\n",
       "      <th>4</th>\n",
       "      <td>121466</td>\n",
       "      <td>3</td>\n",
       "    </tr>\n",
       "    <tr>\n",
       "      <th>5</th>\n",
       "      <td>112347</td>\n",
       "      <td>3</td>\n",
       "    </tr>\n",
       "    <tr>\n",
       "      <th>6</th>\n",
       "      <td>125190</td>\n",
       "      <td>3</td>\n",
       "    </tr>\n",
       "    <tr>\n",
       "      <th>7</th>\n",
       "      <td>131122</td>\n",
       "      <td>4</td>\n",
       "    </tr>\n",
       "    <tr>\n",
       "      <th>8</th>\n",
       "      <td>108960</td>\n",
       "      <td>3</td>\n",
       "    </tr>\n",
       "    <tr>\n",
       "      <th>9</th>\n",
       "      <td>69370</td>\n",
       "      <td>2</td>\n",
       "    </tr>\n",
       "    <tr>\n",
       "      <th>10</th>\n",
       "      <td>181262</td>\n",
       "      <td>5</td>\n",
       "    </tr>\n",
       "    <tr>\n",
       "      <th>11</th>\n",
       "      <td>122830</td>\n",
       "      <td>3</td>\n",
       "    </tr>\n",
       "    <tr>\n",
       "      <th>12</th>\n",
       "      <td>116525</td>\n",
       "      <td>3</td>\n",
       "    </tr>\n",
       "    <tr>\n",
       "      <th>13</th>\n",
       "      <td>76881</td>\n",
       "      <td>2</td>\n",
       "    </tr>\n",
       "    <tr>\n",
       "      <th>14</th>\n",
       "      <td>72188</td>\n",
       "      <td>2</td>\n",
       "    </tr>\n",
       "    <tr>\n",
       "      <th>15</th>\n",
       "      <td>110287</td>\n",
       "      <td>3</td>\n",
       "    </tr>\n",
       "    <tr>\n",
       "      <th>16</th>\n",
       "      <td>102723</td>\n",
       "      <td>3</td>\n",
       "    </tr>\n",
       "    <tr>\n",
       "      <th>17</th>\n",
       "      <td>104505</td>\n",
       "      <td>3</td>\n",
       "    </tr>\n",
       "    <tr>\n",
       "      <th>18</th>\n",
       "      <td>72429</td>\n",
       "      <td>2</td>\n",
       "    </tr>\n",
       "    <tr>\n",
       "      <th>19</th>\n",
       "      <td>58207</td>\n",
       "      <td>1</td>\n",
       "    </tr>\n",
       "  </tbody>\n",
       "</table>\n",
       "</div>"
      ],
      "text/plain": [
       "    INGRESO ingreso-segmentado\n",
       "0    110866                  3\n",
       "1    159052                  5\n",
       "2    113212                  3\n",
       "3    119602                  3\n",
       "4    121466                  3\n",
       "5    112347                  3\n",
       "6    125190                  3\n",
       "7    131122                  4\n",
       "8    108960                  3\n",
       "9     69370                  2\n",
       "10   181262                  5\n",
       "11   122830                  3\n",
       "12   116525                  3\n",
       "13    76881                  2\n",
       "14    72188                  2\n",
       "15   110287                  3\n",
       "16   102723                  3\n",
       "17   104505                  3\n",
       "18    72429                  2\n",
       "19    58207                  1"
      ]
     },
     "execution_count": 37,
     "metadata": {},
     "output_type": "execute_result"
    }
   ],
   "source": [
    "group_names = ['1', '2', '3', '4', '5', '6', '7', '8', '9']\n",
    "df['ingreso-segmentado'] = pd.cut(df['INGRESO'], bins, labels=group_names, include_lowest=True )\n",
    "df[['INGRESO','ingreso-segmentado']].head(20)"
   ]
  },
  {
   "cell_type": "markdown",
   "id": "8d6ee52d-fad0-4e05-a78f-037e5c4f46f4",
   "metadata": {},
   "source": [
    "### Conteo de Clientes por Segmentos de Ingresos"
   ]
  },
  {
   "cell_type": "code",
   "execution_count": 38,
   "id": "775227d1-b050-4d26-82de-2f2fc438c484",
   "metadata": {},
   "outputs": [
    {
     "name": "stderr",
     "output_type": "stream",
     "text": [
      "c:\\python36\\lib\\site-packages\\seaborn\\_decorators.py:43: FutureWarning: Pass the following variable as a keyword arg: x. From version 0.12, the only valid positional argument will be `data`, and passing other arguments without an explicit keyword will result in an error or misinterpretation.\n",
      "  FutureWarning\n"
     ]
    },
    {
     "data": {
      "image/png": "[encoded data removed]",
      "text/plain": [
       "<Figure size 1440x720 with 1 Axes>"
      ]
     },
     "metadata": {
      "needs_background": "light"
     },
     "output_type": "display_data"
    }
   ],
   "source": [
    "from matplotlib.legend_handler import HandlerBase\n",
    "from matplotlib.text import Text\n",
    "\n",
    "class TextHandler(HandlerBase):\n",
    "    def create_artists(self, legend, tup ,xdescent, ydescent,\n",
    "                        width, height, fontsize,trans):\n",
    "        tx = Text(width/2.,height/2,tup[0], fontsize=fontsize,\n",
    "                  ha=\"center\", va=\"center\", color=tup[1], fontweight=\"bold\")\n",
    "        return [tx]\n",
    "\n",
    "plt.figure(figsize=(20, 10))\n",
    "plt.tight_layout()\n",
    "ax = sns.countplot(df['ingreso-segmentado'])\n",
    "\n",
    "handltext = [\"1\", \"2\", \"3\", \"4\", \"5\", \"6\", \"7\", \"8\", \"9\"]\n",
    "labels = [\"S/. 38247 - S/. 68370\", \"S/. 68371 - S/. 98494\", \"S/. 98495 - S/. 128618\", \"S/. 128619 - S/. 158742\", \"S/. 158743 - S/. 188867\", \"S/. 188868 - S/. 218991\", \"S/. 218992 - S/. 249115\", \"S/. 249116 - S/. 279239\", \"S/. 279240 - S/. 309364\"]\n",
    "\n",
    "\n",
    "t = ax.get_xticklabels()\n",
    "labeldic = dict(zip(handltext, labels))\n",
    "labels = [labeldic[h.get_text()]  for h in t]\n",
    "handles = [(h.get_text(),c.get_fc()) for h,c in zip(t,ax.patches)]\n",
    "\n",
    "ax.legend(handles, labels, handler_map={tuple : TextHandler()}) \n",
    "\n",
    "plt.show()"
   ]
  },
  {
   "cell_type": "code",
   "execution_count": 39,
   "id": "60245025-27e4-46e0-b2d9-c330373a22c1",
   "metadata": {},
   "outputs": [
    {
     "data": {
      "text/plain": [
       "0    306\n",
       "1    194\n",
       "Name: SEXO, dtype: int64"
      ]
     },
     "execution_count": 39,
     "metadata": {},
     "output_type": "execute_result"
    }
   ],
   "source": [
    "Clientes_Sexo = df['SEXO'].value_counts()\n",
    "Clientes_Sexo"
   ]
  },
  {
   "cell_type": "markdown",
   "id": "df45362f-9214-4ab3-9b1f-8727767d8a25",
   "metadata": {},
   "source": [
    "### Cantidad y porcentaje de clientes por sexo:"
   ]
  },
  {
   "cell_type": "code",
   "execution_count": 40,
   "id": "c3472bb2-e829-4ad0-a3bc-0a477d8351cc",
   "metadata": {},
   "outputs": [
    {
     "data": {
      "text/html": [
       "<div>\n",
       "<style scoped>\n",
       "    .dataframe tbody tr th:only-of-type {\n",
       "        vertical-align: middle;\n",
       "    }\n",
       "\n",
       "    .dataframe tbody tr th {\n",
       "        vertical-align: top;\n",
       "    }\n",
       "\n",
       "    .dataframe thead th {\n",
       "        text-align: right;\n",
       "    }\n",
       "</style>\n",
       "<table border=\"1\" class=\"dataframe\">\n",
       "  <thead>\n",
       "    <tr style=\"text-align: right;\">\n",
       "      <th></th>\n",
       "      <th>Cantidad</th>\n",
       "    </tr>\n",
       "    <tr>\n",
       "      <th>Sexo</th>\n",
       "      <th></th>\n",
       "    </tr>\n",
       "  </thead>\n",
       "  <tbody>\n",
       "    <tr>\n",
       "      <th>Hombre</th>\n",
       "      <td>306</td>\n",
       "    </tr>\n",
       "    <tr>\n",
       "      <th>Mujer</th>\n",
       "      <td>194</td>\n",
       "    </tr>\n",
       "  </tbody>\n",
       "</table>\n",
       "</div>"
      ],
      "text/plain": [
       "        Cantidad\n",
       "Sexo            \n",
       "Hombre       306\n",
       "Mujer        194"
      ]
     },
     "execution_count": 40,
     "metadata": {},
     "output_type": "execute_result"
    }
   ],
   "source": [
    "Clientes_Sexo = pd.DataFrame(Clientes_Sexo)\n",
    "header = ['Cantidad']\n",
    "Clientes_Sexo.columns = header \n",
    "Clientes_Sexo\n",
    "Clientes_Sexo['Sexo'] = ['Hombre', 'Mujer']\n",
    "Clientes_Sexo.set_index('Sexo', inplace=True)\n",
    "Clientes_Sexo"
   ]
  },
  {
   "cell_type": "code",
   "execution_count": 41,
   "id": "5251a393-8908-49f7-9505-468148f4093b",
   "metadata": {},
   "outputs": [
    {
     "data": {
      "image/png": "[encoded data removed]",
      "text/plain": [
       "<Figure size 360x432 with 1 Axes>"
      ]
     },
     "metadata": {},
     "output_type": "display_data"
    }
   ],
   "source": [
    "# autopct create %, start angle represent starting point\n",
    "Clientes_Sexo['Cantidad'].plot(kind='pie',\n",
    "                            figsize=(5, 6),\n",
    "                            autopct='%1.1f%%', # add in percentages\n",
    "                            startangle=90,     # start angle 90° (Africa)\n",
    "                            shadow=True,       # add shadow\n",
    "                            label = ''\n",
    "                            )\n",
    "\n",
    "#plt.title('Immigration to Canada by Continent [1980 - 2013]')\n",
    "plt.axis('equal') # Sets the pie chart to look like a circle.\n",
    "\n",
    "plt.show()"
   ]
  },
  {
   "cell_type": "code",
   "execution_count": 42,
   "id": "f0db6923-888a-434e-8d3f-0c6aeb5495bd",
   "metadata": {},
   "outputs": [
    {
     "data": {
      "text/plain": [
       "1    314\n",
       "2     99\n",
       "0     75\n",
       "3     12\n",
       "Name: EDUCACION, dtype: int64"
      ]
     },
     "execution_count": 42,
     "metadata": {},
     "output_type": "execute_result"
    }
   ],
   "source": [
    "Clientes_Educacion = df['EDUCACION'].value_counts()\n",
    "Clientes_Educacion"
   ]
  },
  {
   "cell_type": "markdown",
   "id": "73c6da78-0f71-4f95-bc13-35ba560d05bc",
   "metadata": {},
   "source": [
    "### Porcentaje y Cantidad de Clientes por Nivel Educativo."
   ]
  },
  {
   "cell_type": "code",
   "execution_count": 43,
   "id": "80d51ae6-cc2f-4994-9855-aa2e5b3282ec",
   "metadata": {},
   "outputs": [
    {
     "data": {
      "text/html": [
       "<div>\n",
       "<style scoped>\n",
       "    .dataframe tbody tr th:only-of-type {\n",
       "        vertical-align: middle;\n",
       "    }\n",
       "\n",
       "    .dataframe tbody tr th {\n",
       "        vertical-align: top;\n",
       "    }\n",
       "\n",
       "    .dataframe thead th {\n",
       "        text-align: right;\n",
       "    }\n",
       "</style>\n",
       "<table border=\"1\" class=\"dataframe\">\n",
       "  <thead>\n",
       "    <tr style=\"text-align: right;\">\n",
       "      <th></th>\n",
       "      <th>Cantidad</th>\n",
       "    </tr>\n",
       "    <tr>\n",
       "      <th>Nivel Educativo</th>\n",
       "      <th></th>\n",
       "    </tr>\n",
       "  </thead>\n",
       "  <tbody>\n",
       "    <tr>\n",
       "      <th>Secundaria</th>\n",
       "      <td>314</td>\n",
       "    </tr>\n",
       "    <tr>\n",
       "      <th>Universidad</th>\n",
       "      <td>99</td>\n",
       "    </tr>\n",
       "    <tr>\n",
       "      <th>Otro</th>\n",
       "      <td>75</td>\n",
       "    </tr>\n",
       "    <tr>\n",
       "      <th>Posgrado</th>\n",
       "      <td>12</td>\n",
       "    </tr>\n",
       "  </tbody>\n",
       "</table>\n",
       "</div>"
      ],
      "text/plain": [
       "                 Cantidad\n",
       "Nivel Educativo          \n",
       "Secundaria            314\n",
       "Universidad            99\n",
       "Otro                   75\n",
       "Posgrado               12"
      ]
     },
     "execution_count": 43,
     "metadata": {},
     "output_type": "execute_result"
    }
   ],
   "source": [
    "Clientes_Educacion = pd.DataFrame(Clientes_Educacion)\n",
    "header = ['Cantidad']\n",
    "Clientes_Educacion.columns = header \n",
    "Clientes_Educacion\n",
    "Clientes_Educacion['Nivel Educativo'] = ['Secundaria', 'Universidad', 'Otro', 'Posgrado']\n",
    "Clientes_Educacion.set_index('Nivel Educativo', inplace=True)\n",
    "Clientes_Educacion"
   ]
  },
  {
   "cell_type": "code",
   "execution_count": 44,
   "id": "b3621699-3f0f-4528-bd06-6109aa5f6c05",
   "metadata": {},
   "outputs": [
    {
     "data": {
      "image/png": "[encoded data removed]",
      "text/plain": [
       "<Figure size 1080x432 with 1 Axes>"
      ]
     },
     "metadata": {},
     "output_type": "display_data"
    }
   ],
   "source": [
    "# autopct create %, start angle represent starting point\n",
    "Clientes_Educacion['Cantidad'].plot(kind='pie',\n",
    "                            figsize=(15, 6),\n",
    "                            autopct='%1.1f%%', \n",
    "                            startangle=90,    \n",
    "                            shadow=True,       \n",
    "                            labels=None,         # turn off labels on pie chart\n",
    "                            pctdistance=1.15,    # the ratio between the center of each pie slice and the start of the text generated by autopct \n",
    "                            label = ''\n",
    "                            )\n",
    "\n",
    "#plt.title('Immigration to Canada by Continent [1980 - 2013]')\n",
    "plt.axis('equal') # Sets the pie chart to look like a circle.\n",
    "\n",
    "plt.legend(labels=Clientes_Educacion.index, loc='lower left') \n",
    "\n",
    "plt.show()"
   ]
  },
  {
   "cell_type": "code",
   "execution_count": 45,
   "id": "d576ae2d-b6e2-4565-aab3-262fb4b7102f",
   "metadata": {},
   "outputs": [
    {
     "data": {
      "text/plain": [
       "1    248\n",
       "0    184\n",
       "2     68\n",
       "Name: OCUPACION, dtype: int64"
      ]
     },
     "execution_count": 45,
     "metadata": {},
     "output_type": "execute_result"
    }
   ],
   "source": [
    "Clientes_Ocupacion = df['OCUPACION'].value_counts()\n",
    "Clientes_Ocupacion"
   ]
  },
  {
   "cell_type": "code",
   "execution_count": 46,
   "id": "1514fc87-1a2c-47e1-90f2-a8c8019ddef5",
   "metadata": {},
   "outputs": [
    {
     "data": {
      "text/html": [
       "<div>\n",
       "<style scoped>\n",
       "    .dataframe tbody tr th:only-of-type {\n",
       "        vertical-align: middle;\n",
       "    }\n",
       "\n",
       "    .dataframe tbody tr th {\n",
       "        vertical-align: top;\n",
       "    }\n",
       "\n",
       "    .dataframe thead th {\n",
       "        text-align: right;\n",
       "    }\n",
       "</style>\n",
       "<table border=\"1\" class=\"dataframe\">\n",
       "  <thead>\n",
       "    <tr style=\"text-align: right;\">\n",
       "      <th></th>\n",
       "      <th>Cantidad</th>\n",
       "    </tr>\n",
       "    <tr>\n",
       "      <th>Ocupacion</th>\n",
       "      <th></th>\n",
       "    </tr>\n",
       "  </thead>\n",
       "  <tbody>\n",
       "    <tr>\n",
       "      <th>Empleados</th>\n",
       "      <td>248</td>\n",
       "    </tr>\n",
       "    <tr>\n",
       "      <th>Desempleados</th>\n",
       "      <td>184</td>\n",
       "    </tr>\n",
       "    <tr>\n",
       "      <th>Gerentes</th>\n",
       "      <td>68</td>\n",
       "    </tr>\n",
       "  </tbody>\n",
       "</table>\n",
       "</div>"
      ],
      "text/plain": [
       "              Cantidad\n",
       "Ocupacion             \n",
       "Empleados          248\n",
       "Desempleados       184\n",
       "Gerentes            68"
      ]
     },
     "execution_count": 46,
     "metadata": {},
     "output_type": "execute_result"
    }
   ],
   "source": [
    "Clientes_Ocupacion = pd.DataFrame(Clientes_Ocupacion)\n",
    "header = ['Cantidad']\n",
    "Clientes_Ocupacion.columns = header \n",
    "Clientes_Ocupacion\n",
    "Clientes_Ocupacion['Ocupacion'] = ['Empleados', 'Desempleados', 'Gerentes']\n",
    "Clientes_Ocupacion.set_index('Ocupacion', inplace=True)\n",
    "Clientes_Ocupacion"
   ]
  },
  {
   "cell_type": "code",
   "execution_count": 47,
   "id": "08c62590-ef3c-41de-9b81-c41a396fd332",
   "metadata": {},
   "outputs": [
    {
     "data": {
      "image/png": "[encoded data removed]",
      "text/plain": [
       "<Figure size 360x432 with 1 Axes>"
      ]
     },
     "metadata": {},
     "output_type": "display_data"
    }
   ],
   "source": [
    "# autopct create %, start angle represent starting point\n",
    "Clientes_Ocupacion['Cantidad'].plot(kind='pie',\n",
    "                            figsize=(5, 6),\n",
    "                            autopct='%1.1f%%', # add in percentages\n",
    "                            startangle=90,     # start angle 90° (Africa)\n",
    "                            shadow=True,       # add shadow\n",
    "                            label = ''\n",
    "                            )\n",
    "\n",
    "#plt.title('Immigration to Canada by Continent [1980 - 2013]')\n",
    "plt.axis('equal') # Sets the pie chart to look like a circle.\n",
    "\n",
    "plt.show()"
   ]
  },
  {
   "cell_type": "code",
   "execution_count": 48,
   "id": "e00d9a66-6b59-4098-bd17-70dfa65bd8f4",
   "metadata": {},
   "outputs": [
    {
     "data": {
      "text/plain": [
       "0    280\n",
       "1    121\n",
       "2     99\n",
       "Name: TAMAÑO_CIUDAD, dtype: int64"
      ]
     },
     "execution_count": 48,
     "metadata": {},
     "output_type": "execute_result"
    }
   ],
   "source": [
    "clientes_tamaño_ciudad = df['TAMAÑO_CIUDAD'].value_counts()\n",
    "clientes_tamaño_ciudad"
   ]
  },
  {
   "cell_type": "code",
   "execution_count": 49,
   "id": "4adf8d87-3d68-4152-9cf1-f4fcee18af8c",
   "metadata": {},
   "outputs": [
    {
     "data": {
      "text/html": [
       "<div>\n",
       "<style scoped>\n",
       "    .dataframe tbody tr th:only-of-type {\n",
       "        vertical-align: middle;\n",
       "    }\n",
       "\n",
       "    .dataframe tbody tr th {\n",
       "        vertical-align: top;\n",
       "    }\n",
       "\n",
       "    .dataframe thead th {\n",
       "        text-align: right;\n",
       "    }\n",
       "</style>\n",
       "<table border=\"1\" class=\"dataframe\">\n",
       "  <thead>\n",
       "    <tr style=\"text-align: right;\">\n",
       "      <th></th>\n",
       "      <th>Cantidad</th>\n",
       "    </tr>\n",
       "    <tr>\n",
       "      <th>Tipo de Ciudad</th>\n",
       "      <th></th>\n",
       "    </tr>\n",
       "  </thead>\n",
       "  <tbody>\n",
       "    <tr>\n",
       "      <th>Pequeña</th>\n",
       "      <td>280</td>\n",
       "    </tr>\n",
       "    <tr>\n",
       "      <th>Mediana</th>\n",
       "      <td>121</td>\n",
       "    </tr>\n",
       "    <tr>\n",
       "      <th>Grande</th>\n",
       "      <td>99</td>\n",
       "    </tr>\n",
       "  </tbody>\n",
       "</table>\n",
       "</div>"
      ],
      "text/plain": [
       "                Cantidad\n",
       "Tipo de Ciudad          \n",
       "Pequeña              280\n",
       "Mediana              121\n",
       "Grande                99"
      ]
     },
     "execution_count": 49,
     "metadata": {},
     "output_type": "execute_result"
    }
   ],
   "source": [
    "clientes_tamaño_ciudad = pd.DataFrame(clientes_tamaño_ciudad)\n",
    "header = ['Cantidad']\n",
    "clientes_tamaño_ciudad.columns = header \n",
    "clientes_tamaño_ciudad\n",
    "clientes_tamaño_ciudad['Tipo de Ciudad'] = ['Pequeña', 'Mediana', 'Grande']\n",
    "clientes_tamaño_ciudad.set_index('Tipo de Ciudad', inplace=True)\n",
    "clientes_tamaño_ciudad"
   ]
  },
  {
   "cell_type": "code",
   "execution_count": 50,
   "id": "0878c710-3ab2-417e-b61c-272051b22176",
   "metadata": {},
   "outputs": [
    {
     "data": {
      "image/png": "[encoded data removed]",
      "text/plain": [
       "<Figure size 360x432 with 1 Axes>"
      ]
     },
     "metadata": {},
     "output_type": "display_data"
    }
   ],
   "source": [
    "clientes_tamaño_ciudad['Cantidad'].plot(kind='pie',\n",
    "                            figsize=(5, 6),\n",
    "                            autopct='%1.1f%%', # add in percentages\n",
    "                            startangle=90,     # start angle 90° (Africa)\n",
    "                            shadow=True,       # add shadow\n",
    "                            label = ''\n",
    "                            )\n",
    "\n",
    "#plt.title('Immigration to Canada by Continent [1980 - 2013]')\n",
    "plt.axis('equal') # Sets the pie chart to look like a circle.\n",
    "\n",
    "plt.show()"
   ]
  },
  {
   "cell_type": "code",
   "execution_count": 51,
   "id": "1fff7f43-ef60-4246-a5c8-d119da187732",
   "metadata": {},
   "outputs": [
    {
     "data": {
      "text/plain": [
       "array([  17.75      ,  171.20416667,  324.65833333,  478.1125    ,\n",
       "        631.56666667,  785.02083333,  938.475     , 1091.92916667,\n",
       "       1245.38333333, 1398.8375    , 1552.29166667, 1705.74583333,\n",
       "       1859.2       ])"
      ]
     },
     "execution_count": 51,
     "metadata": {},
     "output_type": "execute_result"
    }
   ],
   "source": [
    "df[\"Valor Monetario Segmentado\"]=df[\"Valor Monetario\"].astype(int, copy=True)\n",
    "bins = np.linspace(min(df[\"Valor Monetario\"]), max(df[\"Valor Monetario\"]), 13)\n",
    "bins"
   ]
  },
  {
   "cell_type": "code",
   "execution_count": 52,
   "id": "7205b252-b86c-47c2-8ec7-31bfa308c49d",
   "metadata": {},
   "outputs": [],
   "source": [
    "df_frecuencia_ventas_por_visita = df[['Frecuencia_ventas_por_visita']]\n",
    "df_frecuencia_ventas_por_dia = df[['Frecuencia_ventas_por_dia']]\n",
    "df_valor_monetario = df[['Valor Monetario']]\n",
    "df_Recencia = df[['Recencia']]\n",
    "df_ventas_efectivas = df[['Cantidad Ventas Efectivas']]\n",
    "\n",
    "df_frecuencia_de_visitas = df[['Frecuencia de Visitas']]\n",
    "df_porcentaje_compras_prom = df[['% Compras en Promociones']]"
   ]
  },
  {
   "cell_type": "code",
   "execution_count": 53,
   "id": "35dfc7b1-e332-479f-af71-c627bb1facdc",
   "metadata": {},
   "outputs": [
    {
     "data": {
      "image/png": "[encoded data removed]",
      "text/plain": [
       "<Figure size 720x432 with 1 Axes>"
      ]
     },
     "metadata": {
      "needs_background": "light"
     },
     "output_type": "display_data"
    }
   ],
   "source": [
    "df_frec_visit_valor_mon = pd.concat([df_frecuencia_ventas_por_visita, df_valor_monetario], axis=1)\n",
    "df_frec_visit_valor_mon.plot(kind='scatter', x='Frecuencia_ventas_por_visita', y='Valor Monetario', figsize=(10, 6), color='darkblue')\n",
    "\n",
    "#plt.title('Frecuencia de Ventas por Visita')\n",
    "plt.xlabel('Frecuencia de Ventas por Visita')\n",
    "plt.ylabel('Valor Monetario')\n",
    "\n",
    "plt.show()"
   ]
  },
  {
   "cell_type": "code",
   "execution_count": 54,
   "id": "9eba882a-298d-458e-9e46-5cf0bbdfaba7",
   "metadata": {},
   "outputs": [
    {
     "data": {
      "image/png": "[encoded data removed]",
      "text/plain": [
       "<Figure size 720x432 with 1 Axes>"
      ]
     },
     "metadata": {
      "needs_background": "light"
     },
     "output_type": "display_data"
    }
   ],
   "source": [
    "df_frec_dia_venta = pd.concat([df_Recencia, df_valor_monetario], axis=1)\n",
    "df_frec_dia_venta.plot(kind='scatter', x='Recencia', y='Valor Monetario', figsize=(10, 6), color='darkblue')\n",
    "\n",
    "#plt.title('Frecuencia de Ventas por Visita')\n",
    "plt.xlabel('Recencia')\n",
    "plt.ylabel('Valor Monetario')\n",
    "\n",
    "plt.show()"
   ]
  },
  {
   "cell_type": "code",
   "execution_count": 55,
   "id": "12821d37-de96-4b85-8507-b449d064eee6",
   "metadata": {},
   "outputs": [
    {
     "data": {
      "image/png": "[encoded data removed]",
      "text/plain": [
       "<Figure size 720x432 with 1 Axes>"
      ]
     },
     "metadata": {
      "needs_background": "light"
     },
     "output_type": "display_data"
    }
   ],
   "source": [
    "df_frec_dia_valor_mon = pd.concat([df_frecuencia_ventas_por_dia, df_valor_monetario], axis=1)\n",
    "df_frec_dia_valor_mon.plot(kind='scatter', x='Frecuencia_ventas_por_dia', y='Valor Monetario', figsize=(10, 6), color='darkblue')\n",
    "\n",
    "#plt.title('Frecuencia de Ventas por Visita')\n",
    "plt.xlabel('Frecuencia de Ventas por dia')\n",
    "plt.ylabel('Valor Monetario')\n",
    "\n",
    "plt.show()"
   ]
  },
  {
   "cell_type": "code",
   "execution_count": 56,
   "id": "c55d56fd-34f9-45a1-b89e-15ebf608f010",
   "metadata": {},
   "outputs": [
    {
     "data": {
      "image/png": "[encoded data removed]",
      "text/plain": [
       "<Figure size 720x432 with 1 Axes>"
      ]
     },
     "metadata": {
      "needs_background": "light"
     },
     "output_type": "display_data"
    }
   ],
   "source": [
    "df_recencia_frecVis = pd.concat([df_Recencia, df_frecuencia_ventas_por_visita], axis=1)\n",
    "df_recencia_frecVis.plot(kind='scatter', x='Recencia', y='Frecuencia_ventas_por_visita', figsize=(10, 6), color='darkblue')\n",
    "\n",
    "#plt.title('Frecuencia de Ventas por Visita')\n",
    "plt.xlabel('Recencia')\n",
    "plt.ylabel('Frecuencia de Ventas por Visita')\n",
    "\n",
    "plt.show()"
   ]
  },
  {
   "cell_type": "code",
   "execution_count": 57,
   "id": "cabed7ec-c296-4344-b186-0dde157ca138",
   "metadata": {},
   "outputs": [
    {
     "data": {
      "image/png": "[encoded data removed]",
      "text/plain": [
       "<Figure size 720x432 with 1 Axes>"
      ]
     },
     "metadata": {
      "needs_background": "light"
     },
     "output_type": "display_data"
    }
   ],
   "source": [
    "df_recencia_frecDia = pd.concat([df_Recencia, df_frecuencia_ventas_por_dia], axis=1)\n",
    "df_recencia_frecDia.plot(kind='scatter', x='Recencia', y='Frecuencia_ventas_por_dia', figsize=(10, 6), color='darkblue')\n",
    "\n",
    "#plt.title('Frecuencia de Ventas por Visita')\n",
    "plt.xlabel('Recencia')\n",
    "plt.ylabel('Frecuencia de Ventas por Dia')\n",
    "\n",
    "plt.show()"
   ]
  },
  {
   "cell_type": "code",
   "execution_count": 58,
   "id": "c6eee132-fa21-47e6-88fa-e61c3221f0e9",
   "metadata": {},
   "outputs": [
    {
     "data": {
      "image/png": "[encoded data removed]",
      "text/plain": [
       "<Figure size 720x432 with 1 Axes>"
      ]
     },
     "metadata": {
      "needs_background": "light"
     },
     "output_type": "display_data"
    }
   ],
   "source": [
    "df_frec_visitaNC_valor_mon = pd.concat([df_frecuencia_de_visitas, df_valor_monetario], axis=1)\n",
    "df_frec_visitaNC_valor_mon.plot(kind='scatter', x='Frecuencia de Visitas', y='Valor Monetario', figsize=(10, 6), color='darkblue')\n",
    "\n",
    "#plt.title('Frecuencia de Ventas por Visita')\n",
    "plt.xlabel('Frecuencia de Visitas')\n",
    "plt.ylabel('Valor Monetario')\n",
    "\n",
    "plt.show()"
   ]
  },
  {
   "cell_type": "code",
   "execution_count": 59,
   "id": "8765db7a-2656-4325-ab53-aac7b7a14eb7",
   "metadata": {},
   "outputs": [
    {
     "data": {
      "image/png": "[encoded data removed]",
      "text/plain": [
       "<Figure size 720x432 with 1 Axes>"
      ]
     },
     "metadata": {
      "needs_background": "light"
     },
     "output_type": "display_data"
    }
   ],
   "source": [
    "df_frec_visita_venta = pd.concat([df_frecuencia_de_visitas, df_frecuencia_ventas_por_visita], axis=1)\n",
    "df_frec_visita_venta.plot(kind='scatter', x='Frecuencia de Visitas', y='Frecuencia_ventas_por_visita', figsize=(10, 6), color='darkblue')\n",
    "\n",
    "#plt.title('Frecuencia de Ventas por Visita')\n",
    "plt.xlabel('Frecuencia de Visitas')\n",
    "plt.ylabel('Frecuencia de Ventas por Visita')\n",
    "\n",
    "plt.show()"
   ]
  },
  {
   "cell_type": "code",
   "execution_count": 60,
   "id": "da97c87a-b6f8-4bea-87eb-245f313429bd",
   "metadata": {},
   "outputs": [
    {
     "data": {
      "image/png": "[encoded data removed]",
      "text/plain": [
       "<Figure size 720x432 with 1 Axes>"
      ]
     },
     "metadata": {
      "needs_background": "light"
     },
     "output_type": "display_data"
    }
   ],
   "source": [
    "df_frec_dia_venta = pd.concat([df_frecuencia_de_visitas, df_frecuencia_ventas_por_dia], axis=1)\n",
    "df_frec_dia_venta.plot(kind='scatter', x='Frecuencia de Visitas', y='Frecuencia_ventas_por_dia', figsize=(10, 6), color='darkblue')\n",
    "\n",
    "#plt.title('Frecuencia de Ventas por Visita')\n",
    "plt.xlabel('Frecuencia de Visitas')\n",
    "plt.ylabel('Frecuencia de Ventas por Dia')\n",
    "\n",
    "plt.show()"
   ]
  },
  {
   "cell_type": "code",
   "execution_count": 61,
   "id": "eb1c7355-ef6b-40e6-af39-54e026e66e11",
   "metadata": {
    "tags": []
   },
   "outputs": [],
   "source": [
    "bins_frecuencia_ventas = [0, 13, 25, 34, 50, 55, 75, 100, 150, 300, max(df_ventas_efectivas['Cantidad Ventas Efectivas'])]\n",
    "names_frecuencia_ventas = ['1', '2', '3', '4', '5', '6', '7', '8', '9', '10']\n",
    "df['Cortes Frecuencia Ventas'] = pd.cut(df['Cantidad Ventas Efectivas'], bins_frecuencia_ventas, labels = names_frecuencia_ventas)"
   ]
  },
  {
   "cell_type": "code",
   "execution_count": 62,
   "id": "03f6aeeb-c0cd-4eb7-91ae-bb2bfe8365d8",
   "metadata": {},
   "outputs": [
    {
     "data": {
      "image/png": "[encoded data removed]",
      "text/plain": [
       "<Figure size 720x432 with 1 Axes>"
      ]
     },
     "metadata": {
      "needs_background": "light"
     },
     "output_type": "display_data"
    }
   ],
   "source": [
    "df_ventas_efectivas_Vmonetario = pd.concat([df_ventas_efectivas, df_valor_monetario], axis=1)\n",
    "df_ventas_efectivas_Vmonetario.plot(kind='scatter', x='Cantidad Ventas Efectivas', y='Valor Monetario', figsize=(10, 6), color='darkblue')\n",
    "\n",
    "#plt.title('Frecuencia de Ventas por Visita')\n",
    "plt.xlabel('Ventas Efectivas (Dias de Compra)')\n",
    "plt.ylabel('Valor Monetario')\n",
    "\n",
    "plt.show()"
   ]
  },
  {
   "cell_type": "code",
   "execution_count": 63,
   "id": "3e97ef90-634e-4cec-820e-4fcf4b0e24b5",
   "metadata": {},
   "outputs": [
    {
     "data": {
      "image/png": "[encoded data removed]",
      "text/plain": [
       "<Figure size 720x432 with 1 Axes>"
      ]
     },
     "metadata": {
      "needs_background": "light"
     },
     "output_type": "display_data"
    }
   ],
   "source": [
    "df_ventas_efectivas_recencia = pd.concat([df_ventas_efectivas, df_Recencia], axis=1)\n",
    "df_ventas_efectivas_recencia.plot(kind='scatter', x='Cantidad Ventas Efectivas', y='Recencia', figsize=(10, 6), color='darkblue')\n",
    "\n",
    "#plt.title('Frecuencia de Ventas por Visita')\n",
    "plt.xlabel('Ventas Efectivas (Dias de Compra)')\n",
    "plt.ylabel('Recencia')\n",
    "\n",
    "plt.show()"
   ]
  },
  {
   "cell_type": "code",
   "execution_count": 64,
   "id": "f5bc3f27-5f1d-49b8-940e-102d007c558c",
   "metadata": {},
   "outputs": [
    {
     "data": {
      "text/html": [
       "<div>\n",
       "<style scoped>\n",
       "    .dataframe tbody tr th:only-of-type {\n",
       "        vertical-align: middle;\n",
       "    }\n",
       "\n",
       "    .dataframe tbody tr th {\n",
       "        vertical-align: top;\n",
       "    }\n",
       "\n",
       "    .dataframe thead th {\n",
       "        text-align: right;\n",
       "    }\n",
       "</style>\n",
       "<table border=\"1\" class=\"dataframe\">\n",
       "  <thead>\n",
       "    <tr style=\"text-align: right;\">\n",
       "      <th></th>\n",
       "      <th>ID</th>\n",
       "      <th>SEXO</th>\n",
       "      <th>ESTADO_CIVIL</th>\n",
       "      <th>EDAD</th>\n",
       "      <th>EDUCACION</th>\n",
       "      <th>INGRESO</th>\n",
       "      <th>OCUPACION</th>\n",
       "      <th>TAMAÑO_CIUDAD</th>\n",
       "      <th>Cantidad de Visitas</th>\n",
       "      <th>Dias sin Visita</th>\n",
       "      <th>...</th>\n",
       "      <th>Variacion del Precio en Compra Marca 3</th>\n",
       "      <th>Variacion del Precio en Compra Marca 4</th>\n",
       "      <th>Variacion del Precio en Compra Marca 5</th>\n",
       "      <th>Compras al Bajar Precio</th>\n",
       "      <th>Compras al Subir Precio</th>\n",
       "      <th>Compras siendo Igual el Precio</th>\n",
       "      <th>ingreso-segmentado</th>\n",
       "      <th>Valor Monetario Segmentado</th>\n",
       "      <th>Cortes Frecuencia Ventas</th>\n",
       "      <th>Cortes Recencia</th>\n",
       "    </tr>\n",
       "  </thead>\n",
       "  <tbody>\n",
       "    <tr>\n",
       "      <th>0</th>\n",
       "      <td>200000001</td>\n",
       "      <td>0</td>\n",
       "      <td>0</td>\n",
       "      <td>47</td>\n",
       "      <td>1</td>\n",
       "      <td>110866</td>\n",
       "      <td>1</td>\n",
       "      <td>0</td>\n",
       "      <td>101</td>\n",
       "      <td>4</td>\n",
       "      <td>...</td>\n",
       "      <td>0.0</td>\n",
       "      <td>-0.003069</td>\n",
       "      <td>0.000396</td>\n",
       "      <td>3</td>\n",
       "      <td>3</td>\n",
       "      <td>3</td>\n",
       "      <td>3</td>\n",
       "      <td>33</td>\n",
       "      <td>1</td>\n",
       "      <td>2</td>\n",
       "    </tr>\n",
       "    <tr>\n",
       "      <th>1</th>\n",
       "      <td>200000002</td>\n",
       "      <td>1</td>\n",
       "      <td>1</td>\n",
       "      <td>52</td>\n",
       "      <td>2</td>\n",
       "      <td>159052</td>\n",
       "      <td>2</td>\n",
       "      <td>1</td>\n",
       "      <td>87</td>\n",
       "      <td>2</td>\n",
       "      <td>...</td>\n",
       "      <td>0.0</td>\n",
       "      <td>-0.002989</td>\n",
       "      <td>0.000000</td>\n",
       "      <td>4</td>\n",
       "      <td>2</td>\n",
       "      <td>5</td>\n",
       "      <td>5</td>\n",
       "      <td>41</td>\n",
       "      <td>1</td>\n",
       "      <td>7</td>\n",
       "    </tr>\n",
       "    <tr>\n",
       "      <th>2</th>\n",
       "      <td>200000003</td>\n",
       "      <td>0</td>\n",
       "      <td>0</td>\n",
       "      <td>28</td>\n",
       "      <td>0</td>\n",
       "      <td>113212</td>\n",
       "      <td>1</td>\n",
       "      <td>0</td>\n",
       "      <td>97</td>\n",
       "      <td>7</td>\n",
       "      <td>...</td>\n",
       "      <td>0.0</td>\n",
       "      <td>0.000000</td>\n",
       "      <td>-0.001753</td>\n",
       "      <td>5</td>\n",
       "      <td>3</td>\n",
       "      <td>2</td>\n",
       "      <td>3</td>\n",
       "      <td>32</td>\n",
       "      <td>1</td>\n",
       "      <td>1</td>\n",
       "    </tr>\n",
       "    <tr>\n",
       "      <th>3</th>\n",
       "      <td>200000004</td>\n",
       "      <td>0</td>\n",
       "      <td>0</td>\n",
       "      <td>37</td>\n",
       "      <td>1</td>\n",
       "      <td>119602</td>\n",
       "      <td>0</td>\n",
       "      <td>0</td>\n",
       "      <td>85</td>\n",
       "      <td>6</td>\n",
       "      <td>...</td>\n",
       "      <td>0.0</td>\n",
       "      <td>0.000000</td>\n",
       "      <td>-0.000824</td>\n",
       "      <td>3</td>\n",
       "      <td>4</td>\n",
       "      <td>4</td>\n",
       "      <td>3</td>\n",
       "      <td>32</td>\n",
       "      <td>1</td>\n",
       "      <td>1</td>\n",
       "    </tr>\n",
       "    <tr>\n",
       "      <th>4</th>\n",
       "      <td>200000005</td>\n",
       "      <td>0</td>\n",
       "      <td>0</td>\n",
       "      <td>49</td>\n",
       "      <td>1</td>\n",
       "      <td>121466</td>\n",
       "      <td>1</td>\n",
       "      <td>2</td>\n",
       "      <td>111</td>\n",
       "      <td>2</td>\n",
       "      <td>...</td>\n",
       "      <td>0.0</td>\n",
       "      <td>0.000000</td>\n",
       "      <td>-0.001532</td>\n",
       "      <td>5</td>\n",
       "      <td>3</td>\n",
       "      <td>5</td>\n",
       "      <td>3</td>\n",
       "      <td>54</td>\n",
       "      <td>1</td>\n",
       "      <td>4</td>\n",
       "    </tr>\n",
       "  </tbody>\n",
       "</table>\n",
       "<p>5 rows × 86 columns</p>\n",
       "</div>"
      ],
      "text/plain": [
       "          ID  SEXO  ESTADO_CIVIL  EDAD  EDUCACION  INGRESO  OCUPACION  \\\n",
       "0  200000001     0             0    47          1   110866          1   \n",
       "1  200000002     1             1    52          2   159052          2   \n",
       "2  200000003     0             0    28          0   113212          1   \n",
       "3  200000004     0             0    37          1   119602          0   \n",
       "4  200000005     0             0    49          1   121466          1   \n",
       "\n",
       "   TAMAÑO_CIUDAD  Cantidad de Visitas  Dias sin Visita  ...  \\\n",
       "0              0                  101                4  ...   \n",
       "1              1                   87                2  ...   \n",
       "2              0                   97                7  ...   \n",
       "3              0                   85                6  ...   \n",
       "4              2                  111                2  ...   \n",
       "\n",
       "   Variacion del Precio en Compra Marca 3  \\\n",
       "0                                     0.0   \n",
       "1                                     0.0   \n",
       "2                                     0.0   \n",
       "3                                     0.0   \n",
       "4                                     0.0   \n",
       "\n",
       "   Variacion del Precio en Compra Marca 4  \\\n",
       "0                               -0.003069   \n",
       "1                               -0.002989   \n",
       "2                                0.000000   \n",
       "3                                0.000000   \n",
       "4                                0.000000   \n",
       "\n",
       "   Variacion del Precio en Compra Marca 5  Compras al Bajar Precio  \\\n",
       "0                                0.000396                        3   \n",
       "1                                0.000000                        4   \n",
       "2                               -0.001753                        5   \n",
       "3                               -0.000824                        3   \n",
       "4                               -0.001532                        5   \n",
       "\n",
       "   Compras al Subir Precio  Compras siendo Igual el Precio  \\\n",
       "0                        3                               3   \n",
       "1                        2                               5   \n",
       "2                        3                               2   \n",
       "3                        4                               4   \n",
       "4                        3                               5   \n",
       "\n",
       "   ingreso-segmentado  Valor Monetario Segmentado  Cortes Frecuencia Ventas  \\\n",
       "0                   3                          33                         1   \n",
       "1                   5                          41                         1   \n",
       "2                   3                          32                         1   \n",
       "3                   3                          32                         1   \n",
       "4                   3                          54                         1   \n",
       "\n",
       "   Cortes Recencia  \n",
       "0                2  \n",
       "1                7  \n",
       "2                1  \n",
       "3                1  \n",
       "4                4  \n",
       "\n",
       "[5 rows x 86 columns]"
      ]
     },
     "execution_count": 64,
     "metadata": {},
     "output_type": "execute_result"
    }
   ],
   "source": [
    "bins_recencia = [0, 25, 50, 80, 100, 125, 160, 250, max(df_Recencia['Recencia'])]\n",
    "names_recencia = ['1', '2', '3', '4', '5', '6', '7', '8']\n",
    "df['Cortes Recencia'] = pd.cut(df['Recencia'], bins_recencia, labels = names_recencia)\n",
    "df.head()"
   ]
  },
  {
   "cell_type": "code",
   "execution_count": 65,
   "id": "b0f55b7d-e419-4a8f-9216-76a072ac63ec",
   "metadata": {
    "tags": []
   },
   "outputs": [
    {
     "data": {
      "text/html": [
       "<div>\n",
       "<style scoped>\n",
       "    .dataframe tbody tr th:only-of-type {\n",
       "        vertical-align: middle;\n",
       "    }\n",
       "\n",
       "    .dataframe tbody tr th {\n",
       "        vertical-align: top;\n",
       "    }\n",
       "\n",
       "    .dataframe thead th {\n",
       "        text-align: right;\n",
       "    }\n",
       "</style>\n",
       "<table border=\"1\" class=\"dataframe\">\n",
       "  <thead>\n",
       "    <tr style=\"text-align: right;\">\n",
       "      <th></th>\n",
       "      <th>ID</th>\n",
       "      <th>SEXO</th>\n",
       "      <th>ESTADO_CIVIL</th>\n",
       "      <th>EDAD</th>\n",
       "      <th>EDUCACION</th>\n",
       "      <th>INGRESO</th>\n",
       "      <th>OCUPACION</th>\n",
       "      <th>TAMAÑO_CIUDAD</th>\n",
       "      <th>Cantidad de Visitas</th>\n",
       "      <th>Dias sin Visita</th>\n",
       "      <th>...</th>\n",
       "      <th>Variacion del Precio en Compra Marca 4</th>\n",
       "      <th>Variacion del Precio en Compra Marca 5</th>\n",
       "      <th>Compras al Bajar Precio</th>\n",
       "      <th>Compras al Subir Precio</th>\n",
       "      <th>Compras siendo Igual el Precio</th>\n",
       "      <th>ingreso-segmentado</th>\n",
       "      <th>Valor Monetario Segmentado</th>\n",
       "      <th>Cortes Frecuencia Ventas</th>\n",
       "      <th>Cortes Recencia</th>\n",
       "      <th>Cortes Valor Monetario</th>\n",
       "    </tr>\n",
       "  </thead>\n",
       "  <tbody>\n",
       "    <tr>\n",
       "      <th>0</th>\n",
       "      <td>200000001</td>\n",
       "      <td>0</td>\n",
       "      <td>0</td>\n",
       "      <td>47</td>\n",
       "      <td>1</td>\n",
       "      <td>110866</td>\n",
       "      <td>1</td>\n",
       "      <td>0</td>\n",
       "      <td>101</td>\n",
       "      <td>4</td>\n",
       "      <td>...</td>\n",
       "      <td>-0.003069</td>\n",
       "      <td>0.000396</td>\n",
       "      <td>3</td>\n",
       "      <td>3</td>\n",
       "      <td>3</td>\n",
       "      <td>3</td>\n",
       "      <td>33</td>\n",
       "      <td>1</td>\n",
       "      <td>2</td>\n",
       "      <td>1</td>\n",
       "    </tr>\n",
       "    <tr>\n",
       "      <th>1</th>\n",
       "      <td>200000002</td>\n",
       "      <td>1</td>\n",
       "      <td>1</td>\n",
       "      <td>52</td>\n",
       "      <td>2</td>\n",
       "      <td>159052</td>\n",
       "      <td>2</td>\n",
       "      <td>1</td>\n",
       "      <td>87</td>\n",
       "      <td>2</td>\n",
       "      <td>...</td>\n",
       "      <td>-0.002989</td>\n",
       "      <td>0.000000</td>\n",
       "      <td>4</td>\n",
       "      <td>2</td>\n",
       "      <td>5</td>\n",
       "      <td>5</td>\n",
       "      <td>41</td>\n",
       "      <td>1</td>\n",
       "      <td>7</td>\n",
       "      <td>1</td>\n",
       "    </tr>\n",
       "    <tr>\n",
       "      <th>2</th>\n",
       "      <td>200000003</td>\n",
       "      <td>0</td>\n",
       "      <td>0</td>\n",
       "      <td>28</td>\n",
       "      <td>0</td>\n",
       "      <td>113212</td>\n",
       "      <td>1</td>\n",
       "      <td>0</td>\n",
       "      <td>97</td>\n",
       "      <td>7</td>\n",
       "      <td>...</td>\n",
       "      <td>0.000000</td>\n",
       "      <td>-0.001753</td>\n",
       "      <td>5</td>\n",
       "      <td>3</td>\n",
       "      <td>2</td>\n",
       "      <td>3</td>\n",
       "      <td>32</td>\n",
       "      <td>1</td>\n",
       "      <td>1</td>\n",
       "      <td>1</td>\n",
       "    </tr>\n",
       "    <tr>\n",
       "      <th>3</th>\n",
       "      <td>200000004</td>\n",
       "      <td>0</td>\n",
       "      <td>0</td>\n",
       "      <td>37</td>\n",
       "      <td>1</td>\n",
       "      <td>119602</td>\n",
       "      <td>0</td>\n",
       "      <td>0</td>\n",
       "      <td>85</td>\n",
       "      <td>6</td>\n",
       "      <td>...</td>\n",
       "      <td>0.000000</td>\n",
       "      <td>-0.000824</td>\n",
       "      <td>3</td>\n",
       "      <td>4</td>\n",
       "      <td>4</td>\n",
       "      <td>3</td>\n",
       "      <td>32</td>\n",
       "      <td>1</td>\n",
       "      <td>1</td>\n",
       "      <td>1</td>\n",
       "    </tr>\n",
       "    <tr>\n",
       "      <th>4</th>\n",
       "      <td>200000005</td>\n",
       "      <td>0</td>\n",
       "      <td>0</td>\n",
       "      <td>49</td>\n",
       "      <td>1</td>\n",
       "      <td>121466</td>\n",
       "      <td>1</td>\n",
       "      <td>2</td>\n",
       "      <td>111</td>\n",
       "      <td>2</td>\n",
       "      <td>...</td>\n",
       "      <td>0.000000</td>\n",
       "      <td>-0.001532</td>\n",
       "      <td>5</td>\n",
       "      <td>3</td>\n",
       "      <td>5</td>\n",
       "      <td>3</td>\n",
       "      <td>54</td>\n",
       "      <td>1</td>\n",
       "      <td>4</td>\n",
       "      <td>1</td>\n",
       "    </tr>\n",
       "    <tr>\n",
       "      <th>...</th>\n",
       "      <td>...</td>\n",
       "      <td>...</td>\n",
       "      <td>...</td>\n",
       "      <td>...</td>\n",
       "      <td>...</td>\n",
       "      <td>...</td>\n",
       "      <td>...</td>\n",
       "      <td>...</td>\n",
       "      <td>...</td>\n",
       "      <td>...</td>\n",
       "      <td>...</td>\n",
       "      <td>...</td>\n",
       "      <td>...</td>\n",
       "      <td>...</td>\n",
       "      <td>...</td>\n",
       "      <td>...</td>\n",
       "      <td>...</td>\n",
       "      <td>...</td>\n",
       "      <td>...</td>\n",
       "      <td>...</td>\n",
       "      <td>...</td>\n",
       "    </tr>\n",
       "    <tr>\n",
       "      <th>495</th>\n",
       "      <td>200000496</td>\n",
       "      <td>1</td>\n",
       "      <td>1</td>\n",
       "      <td>26</td>\n",
       "      <td>1</td>\n",
       "      <td>71021</td>\n",
       "      <td>0</td>\n",
       "      <td>0</td>\n",
       "      <td>120</td>\n",
       "      <td>8</td>\n",
       "      <td>...</td>\n",
       "      <td>0.000000</td>\n",
       "      <td>0.000417</td>\n",
       "      <td>5</td>\n",
       "      <td>4</td>\n",
       "      <td>11</td>\n",
       "      <td>2</td>\n",
       "      <td>90</td>\n",
       "      <td>2</td>\n",
       "      <td>5</td>\n",
       "      <td>2</td>\n",
       "    </tr>\n",
       "    <tr>\n",
       "      <th>496</th>\n",
       "      <td>200000497</td>\n",
       "      <td>0</td>\n",
       "      <td>0</td>\n",
       "      <td>60</td>\n",
       "      <td>2</td>\n",
       "      <td>89374</td>\n",
       "      <td>0</td>\n",
       "      <td>0</td>\n",
       "      <td>120</td>\n",
       "      <td>9</td>\n",
       "      <td>...</td>\n",
       "      <td>-0.002250</td>\n",
       "      <td>0.000000</td>\n",
       "      <td>11</td>\n",
       "      <td>5</td>\n",
       "      <td>27</td>\n",
       "      <td>2</td>\n",
       "      <td>460</td>\n",
       "      <td>4</td>\n",
       "      <td>1</td>\n",
       "      <td>5</td>\n",
       "    </tr>\n",
       "    <tr>\n",
       "      <th>497</th>\n",
       "      <td>200000498</td>\n",
       "      <td>1</td>\n",
       "      <td>1</td>\n",
       "      <td>29</td>\n",
       "      <td>1</td>\n",
       "      <td>114784</td>\n",
       "      <td>1</td>\n",
       "      <td>0</td>\n",
       "      <td>131</td>\n",
       "      <td>2</td>\n",
       "      <td>...</td>\n",
       "      <td>0.000000</td>\n",
       "      <td>0.000000</td>\n",
       "      <td>11</td>\n",
       "      <td>9</td>\n",
       "      <td>19</td>\n",
       "      <td>3</td>\n",
       "      <td>219</td>\n",
       "      <td>4</td>\n",
       "      <td>1</td>\n",
       "      <td>4</td>\n",
       "    </tr>\n",
       "    <tr>\n",
       "      <th>498</th>\n",
       "      <td>200000499</td>\n",
       "      <td>1</td>\n",
       "      <td>0</td>\n",
       "      <td>35</td>\n",
       "      <td>1</td>\n",
       "      <td>73266</td>\n",
       "      <td>0</td>\n",
       "      <td>0</td>\n",
       "      <td>106</td>\n",
       "      <td>4</td>\n",
       "      <td>...</td>\n",
       "      <td>0.000000</td>\n",
       "      <td>0.001604</td>\n",
       "      <td>17</td>\n",
       "      <td>6</td>\n",
       "      <td>8</td>\n",
       "      <td>2</td>\n",
       "      <td>157</td>\n",
       "      <td>3</td>\n",
       "      <td>1</td>\n",
       "      <td>3</td>\n",
       "    </tr>\n",
       "    <tr>\n",
       "      <th>499</th>\n",
       "      <td>200000500</td>\n",
       "      <td>0</td>\n",
       "      <td>0</td>\n",
       "      <td>42</td>\n",
       "      <td>1</td>\n",
       "      <td>120946</td>\n",
       "      <td>1</td>\n",
       "      <td>0</td>\n",
       "      <td>124</td>\n",
       "      <td>5</td>\n",
       "      <td>...</td>\n",
       "      <td>0.000000</td>\n",
       "      <td>0.000000</td>\n",
       "      <td>6</td>\n",
       "      <td>2</td>\n",
       "      <td>7</td>\n",
       "      <td>3</td>\n",
       "      <td>151</td>\n",
       "      <td>2</td>\n",
       "      <td>1</td>\n",
       "      <td>3</td>\n",
       "    </tr>\n",
       "  </tbody>\n",
       "</table>\n",
       "<p>500 rows × 87 columns</p>\n",
       "</div>"
      ],
      "text/plain": [
       "            ID  SEXO  ESTADO_CIVIL  EDAD  EDUCACION  INGRESO  OCUPACION  \\\n",
       "0    200000001     0             0    47          1   110866          1   \n",
       "1    200000002     1             1    52          2   159052          2   \n",
       "2    200000003     0             0    28          0   113212          1   \n",
       "3    200000004     0             0    37          1   119602          0   \n",
       "4    200000005     0             0    49          1   121466          1   \n",
       "..         ...   ...           ...   ...        ...      ...        ...   \n",
       "495  200000496     1             1    26          1    71021          0   \n",
       "496  200000497     0             0    60          2    89374          0   \n",
       "497  200000498     1             1    29          1   114784          1   \n",
       "498  200000499     1             0    35          1    73266          0   \n",
       "499  200000500     0             0    42          1   120946          1   \n",
       "\n",
       "     TAMAÑO_CIUDAD  Cantidad de Visitas  Dias sin Visita  ...  \\\n",
       "0                0                  101                4  ...   \n",
       "1                1                   87                2  ...   \n",
       "2                0                   97                7  ...   \n",
       "3                0                   85                6  ...   \n",
       "4                2                  111                2  ...   \n",
       "..             ...                  ...              ...  ...   \n",
       "495              0                  120                8  ...   \n",
       "496              0                  120                9  ...   \n",
       "497              0                  131                2  ...   \n",
       "498              0                  106                4  ...   \n",
       "499              0                  124                5  ...   \n",
       "\n",
       "     Variacion del Precio en Compra Marca 4  \\\n",
       "0                                 -0.003069   \n",
       "1                                 -0.002989   \n",
       "2                                  0.000000   \n",
       "3                                  0.000000   \n",
       "4                                  0.000000   \n",
       "..                                      ...   \n",
       "495                                0.000000   \n",
       "496                               -0.002250   \n",
       "497                                0.000000   \n",
       "498                                0.000000   \n",
       "499                                0.000000   \n",
       "\n",
       "     Variacion del Precio en Compra Marca 5  Compras al Bajar Precio  \\\n",
       "0                                  0.000396                        3   \n",
       "1                                  0.000000                        4   \n",
       "2                                 -0.001753                        5   \n",
       "3                                 -0.000824                        3   \n",
       "4                                 -0.001532                        5   \n",
       "..                                      ...                      ...   \n",
       "495                                0.000417                        5   \n",
       "496                                0.000000                       11   \n",
       "497                                0.000000                       11   \n",
       "498                                0.001604                       17   \n",
       "499                                0.000000                        6   \n",
       "\n",
       "     Compras al Subir Precio  Compras siendo Igual el Precio  \\\n",
       "0                          3                               3   \n",
       "1                          2                               5   \n",
       "2                          3                               2   \n",
       "3                          4                               4   \n",
       "4                          3                               5   \n",
       "..                       ...                             ...   \n",
       "495                        4                              11   \n",
       "496                        5                              27   \n",
       "497                        9                              19   \n",
       "498                        6                               8   \n",
       "499                        2                               7   \n",
       "\n",
       "     ingreso-segmentado  Valor Monetario Segmentado  Cortes Frecuencia Ventas  \\\n",
       "0                     3                          33                         1   \n",
       "1                     5                          41                         1   \n",
       "2                     3                          32                         1   \n",
       "3                     3                          32                         1   \n",
       "4                     3                          54                         1   \n",
       "..                  ...                         ...                       ...   \n",
       "495                   2                          90                         2   \n",
       "496                   2                         460                         4   \n",
       "497                   3                         219                         4   \n",
       "498                   2                         157                         3   \n",
       "499                   3                         151                         2   \n",
       "\n",
       "     Cortes Recencia  Cortes Valor Monetario  \n",
       "0                  2                       1  \n",
       "1                  7                       1  \n",
       "2                  1                       1  \n",
       "3                  1                       1  \n",
       "4                  4                       1  \n",
       "..               ...                     ...  \n",
       "495                5                       2  \n",
       "496                1                       5  \n",
       "497                1                       4  \n",
       "498                1                       3  \n",
       "499                1                       3  \n",
       "\n",
       "[500 rows x 87 columns]"
      ]
     },
     "execution_count": 65,
     "metadata": {},
     "output_type": "execute_result"
    }
   ],
   "source": [
    "bins_valor_monetario = [0, 84, 100, 200, 250, 500, 700, 750, 800, 1200, 1450, 1760, max(df['Valor Monetario'])]\n",
    "names_valor_monetario = ['1', '2', '3', '4', '5', '6', '7', '8', '9', '10', '11', '12']\n",
    "df['Cortes Valor Monetario'] = pd.cut(df['Valor Monetario'], bins_valor_monetario, labels = names_valor_monetario)\n",
    "df"
   ]
  },
  {
   "cell_type": "code",
   "execution_count": 66,
   "id": "83562743-0f1e-43b4-8107-8dba9d4bb6c9",
   "metadata": {},
   "outputs": [],
   "source": [
    "from sklearn.cluster import KMeans \n",
    "from sklearn.preprocessing import StandardScaler"
   ]
  },
  {
   "cell_type": "code",
   "execution_count": 86,
   "id": "a372f13f-ca20-4cb4-bce2-3e5855986a2d",
   "metadata": {
    "tags": []
   },
   "outputs": [],
   "source": [
    "X = df[['Cortes Recencia', 'Cortes Frecuencia Ventas', 'Cortes Valor Monetario']]\n",
    "#X = pd.to_numeric(X, errors='coerce')\n",
    "\n",
    "#X = X.values\n",
    "#X = np.nan_to_num(X)\n",
    "#Clus_dataSet = StandardScaler().fit_transform(X)\n",
    "#Clus_dataSet"
   ]
  },
  {
   "cell_type": "code",
   "execution_count": 88,
   "id": "53e30dab-e511-4c64-8fb3-83ae8372e8d2",
   "metadata": {},
   "outputs": [
    {
     "data": {
      "text/plain": [
       "<function matplotlib.pyplot.show(close=None, block=None)>"
      ]
     },
     "execution_count": 88,
     "metadata": {},
     "output_type": "execute_result"
    },
    {
     "data": {
      "image/png": "[encoded data removed]",
      "text/plain": [
       "<Figure size 720x432 with 1 Axes>"
      ]
     },
     "metadata": {
      "needs_background": "light"
     },
     "output_type": "display_data"
    }
   ],
   "source": [
    "inercia = []\n",
    "for i in range(1, 12):\n",
    "    algoritmo = KMeans(n_clusters= i, init = 'k-means++',\n",
    "                     max_iter = 300, n_init = 12)\n",
    "    algoritmo.fit(Clus_dataSet)\n",
    "    #for each K, we calculate the total sum of square inside cluster\n",
    "    inercia.append(algoritmo.inertia_)\n",
    "    \n",
    "# We plot the curve of te sume of the square errors\n",
    "plt.figure(figsize=[10,6])\n",
    "plt.title('Elbow method')\n",
    "plt.xlabel('No. de clusters')\n",
    "plt.ylabel('Inercia')\n",
    "plt.plot(list(range(1,12)), inercia, marker='o')\n",
    "plt.show"
   ]
  },
  {
   "cell_type": "code",
   "execution_count": 89,
   "id": "13a8ac66-306d-4b67-9854-d0dded048a8f",
   "metadata": {},
   "outputs": [
    {
     "name": "stdout",
     "output_type": "stream",
     "text": [
      "[1 4 1 1 6 6 6 1 6 1 5 1 4 1 6 1 1 1 1 1 6 5 6 1 6 1 1 5 1 0 1 4 0 5 5 1 1\n",
      " 3 5 1 7 1 1 1 6 2 1 5 5 5 1 3 1 6 6 6 2 1 1 6 1 3 5 3 6 5 1 4 5 5 5 5 1 1\n",
      " 1 4 1 4 5 2 1 6 1 5 1 1 1 2 5 5 3 6 5 5 1 5 0 1 5 1 5 0 4 1 1 0 1 3 0 1 5\n",
      " 7 5 5 5 0 0 0 2 3 5 5 5 2 5 4 1 2 3 0 2 1 1 0 2 0 2 1 3 1 3 0 1 1 5 4 0 2\n",
      " 5 5 6 6 1 1 6 1 5 1 4 1 6 1 1 1 1 1 6 5 6 1 6 1 1 5 1 0 1 4 0 5 5 1 1 3 5\n",
      " 1 7 1 1 1 6 2 1 5 1 5 1 3 1 6 6 6 2 1 1 4 1 3 5 3 6 5 1 4 5 5 5 5 1 1 6 4\n",
      " 1 4 5 2 1 6 1 5 1 1 1 5 1 5 1 4 0 5 5 1 1 3 5 1 7 1 1 1 6 2 1 1 1 5 1 3 1\n",
      " 6 6 6 2 1 1 4 1 3 5 3 6 5 1 4 5 5 5 5 1 1 6 4 1 4 5 0 1 6 1 1 1 1 1 2 5 5\n",
      " 3 4 5 5 5 5 5 1 5 1 5 0 4 1 1 0 2 3 0 1 5 7 5 5 5 0 2 0 2 7 5 1 5 2 5 4 5\n",
      " 2 3 0 2 5 1 0 1 2 5 5 3 6 5 5 1 5 0 5 5 1 5 0 1 5 1 0 6 3 0 1 5 7 5 5 5 0\n",
      " 5 0 2 3 5 1 5 2 5 4 5 2 3 5 2 1 1 0 1 2 5 5 3 4 5 5 1 5 0 1 5 1 5 0 4 1 1\n",
      " 0 6 3 0 1 5 7 5 5 5 0 2 0 2 3 5 5 5 2 5 4 5 2 3 0 2 5 1 0 2 5 4 5 3 1 3 0\n",
      " 1 1 5 4 0 2 5 5 2 0 4 5 3 1 3 0 1 1 1 4 0 2 5 5 2 0 2 5 3 1 3 0 1 1 1 6 0\n",
      " 2 5 5 2 0 2 5 3 1 3 0 1 1 5 6 0 0 5 5]\n"
     ]
    }
   ],
   "source": [
    "clusterNum = 8\n",
    "k_means = KMeans(init = \"k-means++\", n_clusters = clusterNum, n_init = 12)\n",
    "k_means.fit(X)\n",
    "labels = k_means.labels_\n",
    "print(labels)"
   ]
  },
  {
   "cell_type": "code",
   "execution_count": 90,
   "id": "d275091d-538c-4029-875a-136acb324957",
   "metadata": {
    "collapsed": true,
    "jupyter": {
     "outputs_hidden": true
    },
    "tags": []
   },
   "outputs": [
    {
     "data": {
      "text/html": [
       "<div>\n",
       "<style scoped>\n",
       "    .dataframe tbody tr th:only-of-type {\n",
       "        vertical-align: middle;\n",
       "    }\n",
       "\n",
       "    .dataframe tbody tr th {\n",
       "        vertical-align: top;\n",
       "    }\n",
       "\n",
       "    .dataframe thead th {\n",
       "        text-align: right;\n",
       "    }\n",
       "</style>\n",
       "<table border=\"1\" class=\"dataframe\">\n",
       "  <thead>\n",
       "    <tr style=\"text-align: right;\">\n",
       "      <th></th>\n",
       "      <th>ID</th>\n",
       "      <th>SEXO</th>\n",
       "      <th>ESTADO_CIVIL</th>\n",
       "      <th>EDAD</th>\n",
       "      <th>EDUCACION</th>\n",
       "      <th>INGRESO</th>\n",
       "      <th>OCUPACION</th>\n",
       "      <th>TAMAÑO_CIUDAD</th>\n",
       "      <th>Cantidad de Visitas</th>\n",
       "      <th>Dias sin Visita</th>\n",
       "      <th>...</th>\n",
       "      <th>Variacion del Precio en Compra Marca 5</th>\n",
       "      <th>Compras al Bajar Precio</th>\n",
       "      <th>Compras al Subir Precio</th>\n",
       "      <th>Compras siendo Igual el Precio</th>\n",
       "      <th>ingreso-segmentado</th>\n",
       "      <th>Valor Monetario Segmentado</th>\n",
       "      <th>Cortes Frecuencia Ventas</th>\n",
       "      <th>Cortes Recencia</th>\n",
       "      <th>Cortes Valor Monetario</th>\n",
       "      <th>Clus_km</th>\n",
       "    </tr>\n",
       "  </thead>\n",
       "  <tbody>\n",
       "    <tr>\n",
       "      <th>0</th>\n",
       "      <td>200000001</td>\n",
       "      <td>0</td>\n",
       "      <td>0</td>\n",
       "      <td>47</td>\n",
       "      <td>1</td>\n",
       "      <td>110866</td>\n",
       "      <td>1</td>\n",
       "      <td>0</td>\n",
       "      <td>101</td>\n",
       "      <td>4</td>\n",
       "      <td>...</td>\n",
       "      <td>0.000396</td>\n",
       "      <td>3</td>\n",
       "      <td>3</td>\n",
       "      <td>3</td>\n",
       "      <td>3</td>\n",
       "      <td>33</td>\n",
       "      <td>1</td>\n",
       "      <td>2</td>\n",
       "      <td>1</td>\n",
       "      <td>1</td>\n",
       "    </tr>\n",
       "    <tr>\n",
       "      <th>1</th>\n",
       "      <td>200000002</td>\n",
       "      <td>1</td>\n",
       "      <td>1</td>\n",
       "      <td>52</td>\n",
       "      <td>2</td>\n",
       "      <td>159052</td>\n",
       "      <td>2</td>\n",
       "      <td>1</td>\n",
       "      <td>87</td>\n",
       "      <td>2</td>\n",
       "      <td>...</td>\n",
       "      <td>0.000000</td>\n",
       "      <td>4</td>\n",
       "      <td>2</td>\n",
       "      <td>5</td>\n",
       "      <td>5</td>\n",
       "      <td>41</td>\n",
       "      <td>1</td>\n",
       "      <td>7</td>\n",
       "      <td>1</td>\n",
       "      <td>4</td>\n",
       "    </tr>\n",
       "    <tr>\n",
       "      <th>2</th>\n",
       "      <td>200000003</td>\n",
       "      <td>0</td>\n",
       "      <td>0</td>\n",
       "      <td>28</td>\n",
       "      <td>0</td>\n",
       "      <td>113212</td>\n",
       "      <td>1</td>\n",
       "      <td>0</td>\n",
       "      <td>97</td>\n",
       "      <td>7</td>\n",
       "      <td>...</td>\n",
       "      <td>-0.001753</td>\n",
       "      <td>5</td>\n",
       "      <td>3</td>\n",
       "      <td>2</td>\n",
       "      <td>3</td>\n",
       "      <td>32</td>\n",
       "      <td>1</td>\n",
       "      <td>1</td>\n",
       "      <td>1</td>\n",
       "      <td>1</td>\n",
       "    </tr>\n",
       "    <tr>\n",
       "      <th>3</th>\n",
       "      <td>200000004</td>\n",
       "      <td>0</td>\n",
       "      <td>0</td>\n",
       "      <td>37</td>\n",
       "      <td>1</td>\n",
       "      <td>119602</td>\n",
       "      <td>0</td>\n",
       "      <td>0</td>\n",
       "      <td>85</td>\n",
       "      <td>6</td>\n",
       "      <td>...</td>\n",
       "      <td>-0.000824</td>\n",
       "      <td>3</td>\n",
       "      <td>4</td>\n",
       "      <td>4</td>\n",
       "      <td>3</td>\n",
       "      <td>32</td>\n",
       "      <td>1</td>\n",
       "      <td>1</td>\n",
       "      <td>1</td>\n",
       "      <td>1</td>\n",
       "    </tr>\n",
       "    <tr>\n",
       "      <th>4</th>\n",
       "      <td>200000005</td>\n",
       "      <td>0</td>\n",
       "      <td>0</td>\n",
       "      <td>49</td>\n",
       "      <td>1</td>\n",
       "      <td>121466</td>\n",
       "      <td>1</td>\n",
       "      <td>2</td>\n",
       "      <td>111</td>\n",
       "      <td>2</td>\n",
       "      <td>...</td>\n",
       "      <td>-0.001532</td>\n",
       "      <td>5</td>\n",
       "      <td>3</td>\n",
       "      <td>5</td>\n",
       "      <td>3</td>\n",
       "      <td>54</td>\n",
       "      <td>1</td>\n",
       "      <td>4</td>\n",
       "      <td>1</td>\n",
       "      <td>6</td>\n",
       "    </tr>\n",
       "    <tr>\n",
       "      <th>5</th>\n",
       "      <td>200000006</td>\n",
       "      <td>0</td>\n",
       "      <td>0</td>\n",
       "      <td>39</td>\n",
       "      <td>1</td>\n",
       "      <td>112347</td>\n",
       "      <td>1</td>\n",
       "      <td>2</td>\n",
       "      <td>86</td>\n",
       "      <td>4</td>\n",
       "      <td>...</td>\n",
       "      <td>-0.006279</td>\n",
       "      <td>4</td>\n",
       "      <td>2</td>\n",
       "      <td>4</td>\n",
       "      <td>3</td>\n",
       "      <td>40</td>\n",
       "      <td>1</td>\n",
       "      <td>4</td>\n",
       "      <td>1</td>\n",
       "      <td>6</td>\n",
       "    </tr>\n",
       "    <tr>\n",
       "      <th>6</th>\n",
       "      <td>200000007</td>\n",
       "      <td>0</td>\n",
       "      <td>0</td>\n",
       "      <td>27</td>\n",
       "      <td>0</td>\n",
       "      <td>125190</td>\n",
       "      <td>2</td>\n",
       "      <td>1</td>\n",
       "      <td>83</td>\n",
       "      <td>10</td>\n",
       "      <td>...</td>\n",
       "      <td>-0.000482</td>\n",
       "      <td>5</td>\n",
       "      <td>5</td>\n",
       "      <td>6</td>\n",
       "      <td>3</td>\n",
       "      <td>55</td>\n",
       "      <td>2</td>\n",
       "      <td>4</td>\n",
       "      <td>1</td>\n",
       "      <td>6</td>\n",
       "    </tr>\n",
       "    <tr>\n",
       "      <th>7</th>\n",
       "      <td>200000008</td>\n",
       "      <td>0</td>\n",
       "      <td>0</td>\n",
       "      <td>26</td>\n",
       "      <td>0</td>\n",
       "      <td>131122</td>\n",
       "      <td>1</td>\n",
       "      <td>0</td>\n",
       "      <td>97</td>\n",
       "      <td>2</td>\n",
       "      <td>...</td>\n",
       "      <td>-0.000619</td>\n",
       "      <td>10</td>\n",
       "      <td>4</td>\n",
       "      <td>1</td>\n",
       "      <td>4</td>\n",
       "      <td>61</td>\n",
       "      <td>2</td>\n",
       "      <td>1</td>\n",
       "      <td>1</td>\n",
       "      <td>1</td>\n",
       "    </tr>\n",
       "    <tr>\n",
       "      <th>8</th>\n",
       "      <td>200000009</td>\n",
       "      <td>0</td>\n",
       "      <td>0</td>\n",
       "      <td>25</td>\n",
       "      <td>0</td>\n",
       "      <td>108960</td>\n",
       "      <td>0</td>\n",
       "      <td>0</td>\n",
       "      <td>102</td>\n",
       "      <td>8</td>\n",
       "      <td>...</td>\n",
       "      <td>0.000000</td>\n",
       "      <td>4</td>\n",
       "      <td>0</td>\n",
       "      <td>5</td>\n",
       "      <td>3</td>\n",
       "      <td>17</td>\n",
       "      <td>1</td>\n",
       "      <td>3</td>\n",
       "      <td>1</td>\n",
       "      <td>6</td>\n",
       "    </tr>\n",
       "    <tr>\n",
       "      <th>9</th>\n",
       "      <td>200000010</td>\n",
       "      <td>0</td>\n",
       "      <td>0</td>\n",
       "      <td>32</td>\n",
       "      <td>0</td>\n",
       "      <td>69370</td>\n",
       "      <td>0</td>\n",
       "      <td>0</td>\n",
       "      <td>98</td>\n",
       "      <td>1</td>\n",
       "      <td>...</td>\n",
       "      <td>0.000000</td>\n",
       "      <td>7</td>\n",
       "      <td>3</td>\n",
       "      <td>5</td>\n",
       "      <td>2</td>\n",
       "      <td>78</td>\n",
       "      <td>2</td>\n",
       "      <td>2</td>\n",
       "      <td>1</td>\n",
       "      <td>1</td>\n",
       "    </tr>\n",
       "    <tr>\n",
       "      <th>10</th>\n",
       "      <td>200000011</td>\n",
       "      <td>0</td>\n",
       "      <td>0</td>\n",
       "      <td>44</td>\n",
       "      <td>1</td>\n",
       "      <td>181262</td>\n",
       "      <td>2</td>\n",
       "      <td>2</td>\n",
       "      <td>104</td>\n",
       "      <td>5</td>\n",
       "      <td>...</td>\n",
       "      <td>-0.008654</td>\n",
       "      <td>8</td>\n",
       "      <td>7</td>\n",
       "      <td>10</td>\n",
       "      <td>5</td>\n",
       "      <td>122</td>\n",
       "      <td>2</td>\n",
       "      <td>2</td>\n",
       "      <td>3</td>\n",
       "      <td>5</td>\n",
       "    </tr>\n",
       "    <tr>\n",
       "      <th>11</th>\n",
       "      <td>200000012</td>\n",
       "      <td>0</td>\n",
       "      <td>0</td>\n",
       "      <td>50</td>\n",
       "      <td>1</td>\n",
       "      <td>122830</td>\n",
       "      <td>1</td>\n",
       "      <td>1</td>\n",
       "      <td>105</td>\n",
       "      <td>4</td>\n",
       "      <td>...</td>\n",
       "      <td>0.002381</td>\n",
       "      <td>5</td>\n",
       "      <td>5</td>\n",
       "      <td>3</td>\n",
       "      <td>3</td>\n",
       "      <td>61</td>\n",
       "      <td>1</td>\n",
       "      <td>2</td>\n",
       "      <td>1</td>\n",
       "      <td>1</td>\n",
       "    </tr>\n",
       "    <tr>\n",
       "      <th>12</th>\n",
       "      <td>200000013</td>\n",
       "      <td>0</td>\n",
       "      <td>0</td>\n",
       "      <td>34</td>\n",
       "      <td>1</td>\n",
       "      <td>116525</td>\n",
       "      <td>0</td>\n",
       "      <td>0</td>\n",
       "      <td>103</td>\n",
       "      <td>6</td>\n",
       "      <td>...</td>\n",
       "      <td>0.000000</td>\n",
       "      <td>2</td>\n",
       "      <td>2</td>\n",
       "      <td>7</td>\n",
       "      <td>3</td>\n",
       "      <td>54</td>\n",
       "      <td>1</td>\n",
       "      <td>7</td>\n",
       "      <td>1</td>\n",
       "      <td>4</td>\n",
       "    </tr>\n",
       "    <tr>\n",
       "      <th>13</th>\n",
       "      <td>200000014</td>\n",
       "      <td>0</td>\n",
       "      <td>0</td>\n",
       "      <td>40</td>\n",
       "      <td>1</td>\n",
       "      <td>76881</td>\n",
       "      <td>0</td>\n",
       "      <td>0</td>\n",
       "      <td>111</td>\n",
       "      <td>12</td>\n",
       "      <td>...</td>\n",
       "      <td>-0.000270</td>\n",
       "      <td>5</td>\n",
       "      <td>2</td>\n",
       "      <td>5</td>\n",
       "      <td>2</td>\n",
       "      <td>42</td>\n",
       "      <td>1</td>\n",
       "      <td>1</td>\n",
       "      <td>1</td>\n",
       "      <td>1</td>\n",
       "    </tr>\n",
       "    <tr>\n",
       "      <th>14</th>\n",
       "      <td>200000015</td>\n",
       "      <td>1</td>\n",
       "      <td>0</td>\n",
       "      <td>25</td>\n",
       "      <td>0</td>\n",
       "      <td>72188</td>\n",
       "      <td>0</td>\n",
       "      <td>0</td>\n",
       "      <td>115</td>\n",
       "      <td>1</td>\n",
       "      <td>...</td>\n",
       "      <td>0.000000</td>\n",
       "      <td>4</td>\n",
       "      <td>2</td>\n",
       "      <td>4</td>\n",
       "      <td>2</td>\n",
       "      <td>32</td>\n",
       "      <td>1</td>\n",
       "      <td>3</td>\n",
       "      <td>1</td>\n",
       "      <td>6</td>\n",
       "    </tr>\n",
       "    <tr>\n",
       "      <th>15</th>\n",
       "      <td>200000016</td>\n",
       "      <td>1</td>\n",
       "      <td>0</td>\n",
       "      <td>47</td>\n",
       "      <td>1</td>\n",
       "      <td>110287</td>\n",
       "      <td>1</td>\n",
       "      <td>0</td>\n",
       "      <td>106</td>\n",
       "      <td>4</td>\n",
       "      <td>...</td>\n",
       "      <td>0.000000</td>\n",
       "      <td>0</td>\n",
       "      <td>2</td>\n",
       "      <td>4</td>\n",
       "      <td>3</td>\n",
       "      <td>26</td>\n",
       "      <td>1</td>\n",
       "      <td>2</td>\n",
       "      <td>1</td>\n",
       "      <td>1</td>\n",
       "    </tr>\n",
       "    <tr>\n",
       "      <th>16</th>\n",
       "      <td>200000017</td>\n",
       "      <td>0</td>\n",
       "      <td>0</td>\n",
       "      <td>29</td>\n",
       "      <td>0</td>\n",
       "      <td>102723</td>\n",
       "      <td>1</td>\n",
       "      <td>0</td>\n",
       "      <td>99</td>\n",
       "      <td>4</td>\n",
       "      <td>...</td>\n",
       "      <td>-0.001313</td>\n",
       "      <td>5</td>\n",
       "      <td>3</td>\n",
       "      <td>5</td>\n",
       "      <td>3</td>\n",
       "      <td>56</td>\n",
       "      <td>1</td>\n",
       "      <td>1</td>\n",
       "      <td>1</td>\n",
       "      <td>1</td>\n",
       "    </tr>\n",
       "    <tr>\n",
       "      <th>17</th>\n",
       "      <td>200000018</td>\n",
       "      <td>0</td>\n",
       "      <td>0</td>\n",
       "      <td>25</td>\n",
       "      <td>0</td>\n",
       "      <td>104505</td>\n",
       "      <td>0</td>\n",
       "      <td>0</td>\n",
       "      <td>102</td>\n",
       "      <td>4</td>\n",
       "      <td>...</td>\n",
       "      <td>-0.000490</td>\n",
       "      <td>2</td>\n",
       "      <td>2</td>\n",
       "      <td>3</td>\n",
       "      <td>3</td>\n",
       "      <td>22</td>\n",
       "      <td>1</td>\n",
       "      <td>2</td>\n",
       "      <td>1</td>\n",
       "      <td>1</td>\n",
       "    </tr>\n",
       "    <tr>\n",
       "      <th>18</th>\n",
       "      <td>200000019</td>\n",
       "      <td>0</td>\n",
       "      <td>1</td>\n",
       "      <td>26</td>\n",
       "      <td>1</td>\n",
       "      <td>72429</td>\n",
       "      <td>0</td>\n",
       "      <td>0</td>\n",
       "      <td>167</td>\n",
       "      <td>6</td>\n",
       "      <td>...</td>\n",
       "      <td>0.001916</td>\n",
       "      <td>5</td>\n",
       "      <td>2</td>\n",
       "      <td>4</td>\n",
       "      <td>2</td>\n",
       "      <td>34</td>\n",
       "      <td>1</td>\n",
       "      <td>1</td>\n",
       "      <td>1</td>\n",
       "      <td>1</td>\n",
       "    </tr>\n",
       "    <tr>\n",
       "      <th>19</th>\n",
       "      <td>200000020</td>\n",
       "      <td>1</td>\n",
       "      <td>0</td>\n",
       "      <td>30</td>\n",
       "      <td>1</td>\n",
       "      <td>58207</td>\n",
       "      <td>0</td>\n",
       "      <td>0</td>\n",
       "      <td>101</td>\n",
       "      <td>6</td>\n",
       "      <td>...</td>\n",
       "      <td>0.000000</td>\n",
       "      <td>2</td>\n",
       "      <td>1</td>\n",
       "      <td>6</td>\n",
       "      <td>1</td>\n",
       "      <td>44</td>\n",
       "      <td>1</td>\n",
       "      <td>2</td>\n",
       "      <td>1</td>\n",
       "      <td>1</td>\n",
       "    </tr>\n",
       "  </tbody>\n",
       "</table>\n",
       "<p>20 rows × 88 columns</p>\n",
       "</div>"
      ],
      "text/plain": [
       "           ID  SEXO  ESTADO_CIVIL  EDAD  EDUCACION  INGRESO  OCUPACION  \\\n",
       "0   200000001     0             0    47          1   110866          1   \n",
       "1   200000002     1             1    52          2   159052          2   \n",
       "2   200000003     0             0    28          0   113212          1   \n",
       "3   200000004     0             0    37          1   119602          0   \n",
       "4   200000005     0             0    49          1   121466          1   \n",
       "5   200000006     0             0    39          1   112347          1   \n",
       "6   200000007     0             0    27          0   125190          2   \n",
       "7   200000008     0             0    26          0   131122          1   \n",
       "8   200000009     0             0    25          0   108960          0   \n",
       "9   200000010     0             0    32          0    69370          0   \n",
       "10  200000011     0             0    44          1   181262          2   \n",
       "11  200000012     0             0    50          1   122830          1   \n",
       "12  200000013     0             0    34          1   116525          0   \n",
       "13  200000014     0             0    40          1    76881          0   \n",
       "14  200000015     1             0    25          0    72188          0   \n",
       "15  200000016     1             0    47          1   110287          1   \n",
       "16  200000017     0             0    29          0   102723          1   \n",
       "17  200000018     0             0    25          0   104505          0   \n",
       "18  200000019     0             1    26          1    72429          0   \n",
       "19  200000020     1             0    30          1    58207          0   \n",
       "\n",
       "    TAMAÑO_CIUDAD  Cantidad de Visitas  Dias sin Visita  ...  \\\n",
       "0               0                  101                4  ...   \n",
       "1               1                   87                2  ...   \n",
       "2               0                   97                7  ...   \n",
       "3               0                   85                6  ...   \n",
       "4               2                  111                2  ...   \n",
       "5               2                   86                4  ...   \n",
       "6               1                   83               10  ...   \n",
       "7               0                   97                2  ...   \n",
       "8               0                  102                8  ...   \n",
       "9               0                   98                1  ...   \n",
       "10              2                  104                5  ...   \n",
       "11              1                  105                4  ...   \n",
       "12              0                  103                6  ...   \n",
       "13              0                  111               12  ...   \n",
       "14              0                  115                1  ...   \n",
       "15              0                  106                4  ...   \n",
       "16              0                   99                4  ...   \n",
       "17              0                  102                4  ...   \n",
       "18              0                  167                6  ...   \n",
       "19              0                  101                6  ...   \n",
       "\n",
       "    Variacion del Precio en Compra Marca 5  Compras al Bajar Precio  \\\n",
       "0                                 0.000396                        3   \n",
       "1                                 0.000000                        4   \n",
       "2                                -0.001753                        5   \n",
       "3                                -0.000824                        3   \n",
       "4                                -0.001532                        5   \n",
       "5                                -0.006279                        4   \n",
       "6                                -0.000482                        5   \n",
       "7                                -0.000619                       10   \n",
       "8                                 0.000000                        4   \n",
       "9                                 0.000000                        7   \n",
       "10                               -0.008654                        8   \n",
       "11                                0.002381                        5   \n",
       "12                                0.000000                        2   \n",
       "13                               -0.000270                        5   \n",
       "14                                0.000000                        4   \n",
       "15                                0.000000                        0   \n",
       "16                               -0.001313                        5   \n",
       "17                               -0.000490                        2   \n",
       "18                                0.001916                        5   \n",
       "19                                0.000000                        2   \n",
       "\n",
       "    Compras al Subir Precio  Compras siendo Igual el Precio  \\\n",
       "0                         3                               3   \n",
       "1                         2                               5   \n",
       "2                         3                               2   \n",
       "3                         4                               4   \n",
       "4                         3                               5   \n",
       "5                         2                               4   \n",
       "6                         5                               6   \n",
       "7                         4                               1   \n",
       "8                         0                               5   \n",
       "9                         3                               5   \n",
       "10                        7                              10   \n",
       "11                        5                               3   \n",
       "12                        2                               7   \n",
       "13                        2                               5   \n",
       "14                        2                               4   \n",
       "15                        2                               4   \n",
       "16                        3                               5   \n",
       "17                        2                               3   \n",
       "18                        2                               4   \n",
       "19                        1                               6   \n",
       "\n",
       "    ingreso-segmentado  Valor Monetario Segmentado  Cortes Frecuencia Ventas  \\\n",
       "0                    3                          33                         1   \n",
       "1                    5                          41                         1   \n",
       "2                    3                          32                         1   \n",
       "3                    3                          32                         1   \n",
       "4                    3                          54                         1   \n",
       "5                    3                          40                         1   \n",
       "6                    3                          55                         2   \n",
       "7                    4                          61                         2   \n",
       "8                    3                          17                         1   \n",
       "9                    2                          78                         2   \n",
       "10                   5                         122                         2   \n",
       "11                   3                          61                         1   \n",
       "12                   3                          54                         1   \n",
       "13                   2                          42                         1   \n",
       "14                   2                          32                         1   \n",
       "15                   3                          26                         1   \n",
       "16                   3                          56                         1   \n",
       "17                   3                          22                         1   \n",
       "18                   2                          34                         1   \n",
       "19                   1                          44                         1   \n",
       "\n",
       "    Cortes Recencia  Cortes Valor Monetario  Clus_km  \n",
       "0                 2                       1        1  \n",
       "1                 7                       1        4  \n",
       "2                 1                       1        1  \n",
       "3                 1                       1        1  \n",
       "4                 4                       1        6  \n",
       "5                 4                       1        6  \n",
       "6                 4                       1        6  \n",
       "7                 1                       1        1  \n",
       "8                 3                       1        6  \n",
       "9                 2                       1        1  \n",
       "10                2                       3        5  \n",
       "11                2                       1        1  \n",
       "12                7                       1        4  \n",
       "13                1                       1        1  \n",
       "14                3                       1        6  \n",
       "15                2                       1        1  \n",
       "16                1                       1        1  \n",
       "17                2                       1        1  \n",
       "18                1                       1        1  \n",
       "19                2                       1        1  \n",
       "\n",
       "[20 rows x 88 columns]"
      ]
     },
     "execution_count": 90,
     "metadata": {},
     "output_type": "execute_result"
    }
   ],
   "source": [
    "df[\"Clus_km\"] = labels\n",
    "df.head(20)"
   ]
  },
  {
   "cell_type": "code",
   "execution_count": 96,
   "id": "cab32f20-34e3-43a0-9db9-4bfa4842125f",
   "metadata": {},
   "outputs": [
    {
     "data": {
      "text/plain": [
       "1    154\n",
       "5    133\n",
       "0     52\n",
       "2     43\n",
       "6     42\n",
       "3     37\n",
       "4     31\n",
       "7      8\n",
       "Name: Clus_km, dtype: int64"
      ]
     },
     "execution_count": 96,
     "metadata": {},
     "output_type": "execute_result"
    }
   ],
   "source": [
    "df['Clus_km'].value_counts()"
   ]
  },
  {
   "cell_type": "code",
   "execution_count": 91,
   "id": "847fa7d4-ca67-4cdf-8959-2b2440b00421",
   "metadata": {},
   "outputs": [
    {
     "data": {
      "text/html": [
       "<div>\n",
       "<style scoped>\n",
       "    .dataframe tbody tr th:only-of-type {\n",
       "        vertical-align: middle;\n",
       "    }\n",
       "\n",
       "    .dataframe tbody tr th {\n",
       "        vertical-align: top;\n",
       "    }\n",
       "\n",
       "    .dataframe thead th {\n",
       "        text-align: right;\n",
       "    }\n",
       "</style>\n",
       "<table border=\"1\" class=\"dataframe\">\n",
       "  <thead>\n",
       "    <tr style=\"text-align: right;\">\n",
       "      <th></th>\n",
       "      <th>ID</th>\n",
       "      <th>SEXO</th>\n",
       "      <th>ESTADO_CIVIL</th>\n",
       "      <th>EDAD</th>\n",
       "      <th>EDUCACION</th>\n",
       "      <th>INGRESO</th>\n",
       "      <th>OCUPACION</th>\n",
       "      <th>TAMAÑO_CIUDAD</th>\n",
       "      <th>Cantidad de Visitas</th>\n",
       "      <th>Dias sin Visita</th>\n",
       "      <th>...</th>\n",
       "      <th>Compras al subir el precio Marca 5</th>\n",
       "      <th>Variacion del Precio en Compra Marca 1</th>\n",
       "      <th>Variacion del Precio en Compra Marca 2</th>\n",
       "      <th>Variacion del Precio en Compra Marca 3</th>\n",
       "      <th>Variacion del Precio en Compra Marca 4</th>\n",
       "      <th>Variacion del Precio en Compra Marca 5</th>\n",
       "      <th>Compras al Bajar Precio</th>\n",
       "      <th>Compras al Subir Precio</th>\n",
       "      <th>Compras siendo Igual el Precio</th>\n",
       "      <th>Valor Monetario Segmentado</th>\n",
       "    </tr>\n",
       "    <tr>\n",
       "      <th>Clus_km</th>\n",
       "      <th></th>\n",
       "      <th></th>\n",
       "      <th></th>\n",
       "      <th></th>\n",
       "      <th></th>\n",
       "      <th></th>\n",
       "      <th></th>\n",
       "      <th></th>\n",
       "      <th></th>\n",
       "      <th></th>\n",
       "      <th></th>\n",
       "      <th></th>\n",
       "      <th></th>\n",
       "      <th></th>\n",
       "      <th></th>\n",
       "      <th></th>\n",
       "      <th></th>\n",
       "      <th></th>\n",
       "      <th></th>\n",
       "      <th></th>\n",
       "      <th></th>\n",
       "    </tr>\n",
       "  </thead>\n",
       "  <tbody>\n",
       "    <tr>\n",
       "      <th>0</th>\n",
       "      <td>2.000003e+08</td>\n",
       "      <td>0.538462</td>\n",
       "      <td>0.500000</td>\n",
       "      <td>38.730769</td>\n",
       "      <td>1.230769</td>\n",
       "      <td>127197.480769</td>\n",
       "      <td>0.807692</td>\n",
       "      <td>0.711538</td>\n",
       "      <td>118.557692</td>\n",
       "      <td>6.826923</td>\n",
       "      <td>...</td>\n",
       "      <td>2.000000</td>\n",
       "      <td>-0.001171</td>\n",
       "      <td>-0.010050</td>\n",
       "      <td>-0.000138</td>\n",
       "      <td>-0.000687</td>\n",
       "      <td>0.000141</td>\n",
       "      <td>12.788462</td>\n",
       "      <td>7.961538</td>\n",
       "      <td>21.019231</td>\n",
       "      <td>305.500000</td>\n",
       "    </tr>\n",
       "    <tr>\n",
       "      <th>1</th>\n",
       "      <td>2.000002e+08</td>\n",
       "      <td>0.441558</td>\n",
       "      <td>0.344156</td>\n",
       "      <td>36.025974</td>\n",
       "      <td>0.974026</td>\n",
       "      <td>110267.538961</td>\n",
       "      <td>0.616883</td>\n",
       "      <td>0.461039</td>\n",
       "      <td>115.285714</td>\n",
       "      <td>4.512987</td>\n",
       "      <td>...</td>\n",
       "      <td>0.714286</td>\n",
       "      <td>-0.000431</td>\n",
       "      <td>-0.003860</td>\n",
       "      <td>-0.000004</td>\n",
       "      <td>-0.000443</td>\n",
       "      <td>-0.000119</td>\n",
       "      <td>5.396104</td>\n",
       "      <td>3.214286</td>\n",
       "      <td>6.870130</td>\n",
       "      <td>66.409091</td>\n",
       "    </tr>\n",
       "    <tr>\n",
       "      <th>2</th>\n",
       "      <td>2.000003e+08</td>\n",
       "      <td>0.279070</td>\n",
       "      <td>0.511628</td>\n",
       "      <td>42.744186</td>\n",
       "      <td>1.418605</td>\n",
       "      <td>132613.604651</td>\n",
       "      <td>0.767442</td>\n",
       "      <td>0.744186</td>\n",
       "      <td>117.255814</td>\n",
       "      <td>6.348837</td>\n",
       "      <td>...</td>\n",
       "      <td>1.697674</td>\n",
       "      <td>-0.001301</td>\n",
       "      <td>-0.004675</td>\n",
       "      <td>-0.000024</td>\n",
       "      <td>-0.000484</td>\n",
       "      <td>0.000012</td>\n",
       "      <td>8.465116</td>\n",
       "      <td>5.697674</td>\n",
       "      <td>14.488372</td>\n",
       "      <td>156.790698</td>\n",
       "    </tr>\n",
       "    <tr>\n",
       "      <th>3</th>\n",
       "      <td>2.000003e+08</td>\n",
       "      <td>0.351351</td>\n",
       "      <td>0.432432</td>\n",
       "      <td>43.891892</td>\n",
       "      <td>1.243243</td>\n",
       "      <td>136085.675676</td>\n",
       "      <td>0.972973</td>\n",
       "      <td>1.027027</td>\n",
       "      <td>143.972973</td>\n",
       "      <td>5.216216</td>\n",
       "      <td>...</td>\n",
       "      <td>10.783784</td>\n",
       "      <td>-0.000539</td>\n",
       "      <td>-0.003805</td>\n",
       "      <td>0.000000</td>\n",
       "      <td>-0.000268</td>\n",
       "      <td>0.000418</td>\n",
       "      <td>20.945946</td>\n",
       "      <td>19.162162</td>\n",
       "      <td>43.675676</td>\n",
       "      <td>422.972973</td>\n",
       "    </tr>\n",
       "    <tr>\n",
       "      <th>4</th>\n",
       "      <td>2.000002e+08</td>\n",
       "      <td>0.290323</td>\n",
       "      <td>0.322581</td>\n",
       "      <td>38.709677</td>\n",
       "      <td>1.064516</td>\n",
       "      <td>122855.161290</td>\n",
       "      <td>0.709677</td>\n",
       "      <td>0.516129</td>\n",
       "      <td>113.258065</td>\n",
       "      <td>5.032258</td>\n",
       "      <td>...</td>\n",
       "      <td>1.096774</td>\n",
       "      <td>-0.000405</td>\n",
       "      <td>-0.005641</td>\n",
       "      <td>-0.000010</td>\n",
       "      <td>-0.000105</td>\n",
       "      <td>-0.000390</td>\n",
       "      <td>4.838710</td>\n",
       "      <td>2.709677</td>\n",
       "      <td>6.193548</td>\n",
       "      <td>77.419355</td>\n",
       "    </tr>\n",
       "    <tr>\n",
       "      <th>5</th>\n",
       "      <td>2.000003e+08</td>\n",
       "      <td>0.383459</td>\n",
       "      <td>0.406015</td>\n",
       "      <td>39.060150</td>\n",
       "      <td>1.075188</td>\n",
       "      <td>123616.323308</td>\n",
       "      <td>0.812030</td>\n",
       "      <td>0.601504</td>\n",
       "      <td>109.526316</td>\n",
       "      <td>5.992481</td>\n",
       "      <td>...</td>\n",
       "      <td>2.022556</td>\n",
       "      <td>-0.000738</td>\n",
       "      <td>-0.008191</td>\n",
       "      <td>-0.000018</td>\n",
       "      <td>-0.000454</td>\n",
       "      <td>-0.000168</td>\n",
       "      <td>9.218045</td>\n",
       "      <td>5.729323</td>\n",
       "      <td>11.007519</td>\n",
       "      <td>136.954887</td>\n",
       "    </tr>\n",
       "    <tr>\n",
       "      <th>6</th>\n",
       "      <td>2.000002e+08</td>\n",
       "      <td>0.285714</td>\n",
       "      <td>0.309524</td>\n",
       "      <td>36.976190</td>\n",
       "      <td>0.976190</td>\n",
       "      <td>118748.333333</td>\n",
       "      <td>0.904762</td>\n",
       "      <td>0.785714</td>\n",
       "      <td>111.928571</td>\n",
       "      <td>7.571429</td>\n",
       "      <td>...</td>\n",
       "      <td>1.761905</td>\n",
       "      <td>-0.000343</td>\n",
       "      <td>-0.003804</td>\n",
       "      <td>-0.000017</td>\n",
       "      <td>-0.000146</td>\n",
       "      <td>-0.000128</td>\n",
       "      <td>3.809524</td>\n",
       "      <td>3.071429</td>\n",
       "      <td>5.714286</td>\n",
       "      <td>48.690476</td>\n",
       "    </tr>\n",
       "    <tr>\n",
       "      <th>7</th>\n",
       "      <td>2.000003e+08</td>\n",
       "      <td>0.125000</td>\n",
       "      <td>0.250000</td>\n",
       "      <td>45.750000</td>\n",
       "      <td>1.250000</td>\n",
       "      <td>148768.125000</td>\n",
       "      <td>1.250000</td>\n",
       "      <td>1.500000</td>\n",
       "      <td>203.250000</td>\n",
       "      <td>4.250000</td>\n",
       "      <td>...</td>\n",
       "      <td>29.625000</td>\n",
       "      <td>-0.000367</td>\n",
       "      <td>-0.000509</td>\n",
       "      <td>-0.000051</td>\n",
       "      <td>-0.001594</td>\n",
       "      <td>0.001961</td>\n",
       "      <td>35.125000</td>\n",
       "      <td>31.875000</td>\n",
       "      <td>100.875000</td>\n",
       "      <td>1419.000000</td>\n",
       "    </tr>\n",
       "  </tbody>\n",
       "</table>\n",
       "<p>8 rows × 83 columns</p>\n",
       "</div>"
      ],
      "text/plain": [
       "                   ID      SEXO  ESTADO_CIVIL       EDAD  EDUCACION  \\\n",
       "Clus_km                                                               \n",
       "0        2.000003e+08  0.538462      0.500000  38.730769   1.230769   \n",
       "1        2.000002e+08  0.441558      0.344156  36.025974   0.974026   \n",
       "2        2.000003e+08  0.279070      0.511628  42.744186   1.418605   \n",
       "3        2.000003e+08  0.351351      0.432432  43.891892   1.243243   \n",
       "4        2.000002e+08  0.290323      0.322581  38.709677   1.064516   \n",
       "5        2.000003e+08  0.383459      0.406015  39.060150   1.075188   \n",
       "6        2.000002e+08  0.285714      0.309524  36.976190   0.976190   \n",
       "7        2.000003e+08  0.125000      0.250000  45.750000   1.250000   \n",
       "\n",
       "               INGRESO  OCUPACION  TAMAÑO_CIUDAD  Cantidad de Visitas  \\\n",
       "Clus_km                                                                 \n",
       "0        127197.480769   0.807692       0.711538           118.557692   \n",
       "1        110267.538961   0.616883       0.461039           115.285714   \n",
       "2        132613.604651   0.767442       0.744186           117.255814   \n",
       "3        136085.675676   0.972973       1.027027           143.972973   \n",
       "4        122855.161290   0.709677       0.516129           113.258065   \n",
       "5        123616.323308   0.812030       0.601504           109.526316   \n",
       "6        118748.333333   0.904762       0.785714           111.928571   \n",
       "7        148768.125000   1.250000       1.500000           203.250000   \n",
       "\n",
       "         Dias sin Visita  ...  Compras al subir el precio Marca 5  \\\n",
       "Clus_km                   ...                                       \n",
       "0               6.826923  ...                            2.000000   \n",
       "1               4.512987  ...                            0.714286   \n",
       "2               6.348837  ...                            1.697674   \n",
       "3               5.216216  ...                           10.783784   \n",
       "4               5.032258  ...                            1.096774   \n",
       "5               5.992481  ...                            2.022556   \n",
       "6               7.571429  ...                            1.761905   \n",
       "7               4.250000  ...                           29.625000   \n",
       "\n",
       "         Variacion del Precio en Compra Marca 1  \\\n",
       "Clus_km                                           \n",
       "0                                     -0.001171   \n",
       "1                                     -0.000431   \n",
       "2                                     -0.001301   \n",
       "3                                     -0.000539   \n",
       "4                                     -0.000405   \n",
       "5                                     -0.000738   \n",
       "6                                     -0.000343   \n",
       "7                                     -0.000367   \n",
       "\n",
       "         Variacion del Precio en Compra Marca 2  \\\n",
       "Clus_km                                           \n",
       "0                                     -0.010050   \n",
       "1                                     -0.003860   \n",
       "2                                     -0.004675   \n",
       "3                                     -0.003805   \n",
       "4                                     -0.005641   \n",
       "5                                     -0.008191   \n",
       "6                                     -0.003804   \n",
       "7                                     -0.000509   \n",
       "\n",
       "         Variacion del Precio en Compra Marca 3  \\\n",
       "Clus_km                                           \n",
       "0                                     -0.000138   \n",
       "1                                     -0.000004   \n",
       "2                                     -0.000024   \n",
       "3                                      0.000000   \n",
       "4                                     -0.000010   \n",
       "5                                     -0.000018   \n",
       "6                                     -0.000017   \n",
       "7                                     -0.000051   \n",
       "\n",
       "         Variacion del Precio en Compra Marca 4  \\\n",
       "Clus_km                                           \n",
       "0                                     -0.000687   \n",
       "1                                     -0.000443   \n",
       "2                                     -0.000484   \n",
       "3                                     -0.000268   \n",
       "4                                     -0.000105   \n",
       "5                                     -0.000454   \n",
       "6                                     -0.000146   \n",
       "7                                     -0.001594   \n",
       "\n",
       "         Variacion del Precio en Compra Marca 5  Compras al Bajar Precio  \\\n",
       "Clus_km                                                                    \n",
       "0                                      0.000141                12.788462   \n",
       "1                                     -0.000119                 5.396104   \n",
       "2                                      0.000012                 8.465116   \n",
       "3                                      0.000418                20.945946   \n",
       "4                                     -0.000390                 4.838710   \n",
       "5                                     -0.000168                 9.218045   \n",
       "6                                     -0.000128                 3.809524   \n",
       "7                                      0.001961                35.125000   \n",
       "\n",
       "         Compras al Subir Precio  Compras siendo Igual el Precio  \\\n",
       "Clus_km                                                            \n",
       "0                       7.961538                       21.019231   \n",
       "1                       3.214286                        6.870130   \n",
       "2                       5.697674                       14.488372   \n",
       "3                      19.162162                       43.675676   \n",
       "4                       2.709677                        6.193548   \n",
       "5                       5.729323                       11.007519   \n",
       "6                       3.071429                        5.714286   \n",
       "7                      31.875000                      100.875000   \n",
       "\n",
       "         Valor Monetario Segmentado  \n",
       "Clus_km                              \n",
       "0                        305.500000  \n",
       "1                         66.409091  \n",
       "2                        156.790698  \n",
       "3                        422.972973  \n",
       "4                         77.419355  \n",
       "5                        136.954887  \n",
       "6                         48.690476  \n",
       "7                       1419.000000  \n",
       "\n",
       "[8 rows x 83 columns]"
      ]
     },
     "execution_count": 91,
     "metadata": {},
     "output_type": "execute_result"
    }
   ],
   "source": [
    "df_insights = df.groupby('Clus_km').mean()\n",
    "df_insights "
   ]
  },
  {
   "cell_type": "code",
   "execution_count": 92,
   "id": "a49aaf95-5c44-453f-8e4d-4638db99a6c4",
   "metadata": {},
   "outputs": [],
   "source": [
    "df_insights = df_insights[['SEXO', 'ESTADO_CIVIL', 'EDAD', 'EDUCACION', 'INGRESO', 'OCUPACION', 'TAMAÑO_CIUDAD', 'Cantidad de Visitas', 'Cantidad Marca 1', 'Cantidad Marca 2', 'Cantidad Marca 3', 'Cantidad Marca 4', 'Cantidad Marca 5', 'Total Comprados', '% Visitas Efectivas', 'Ventas Efectivas Prom Marca 1', 'Ventas Efectivas Prom Marca 2', 'Ventas Efectivas Prom Marca 3', 'Ventas Efectivas Prom Marca 4', 'Ventas Efectivas Prom Marca 5', 'Ventas Efectivas en Prom', 'Compras al Bajar Precio', 'Compras al Subir Precio', 'Compras siendo Igual el Precio', 'Recencia', 'Cantidad Ventas Efectivas', 'Valor Monetario']]"
   ]
  },
  {
   "cell_type": "code",
   "execution_count": 95,
   "id": "506a28cf-0b3a-490e-a613-e7ba4763e866",
   "metadata": {},
   "outputs": [],
   "source": [
    "df_insights.to_excel(\"DataframeInsights.xlsx\", index=False)"
   ]
  },
  {
   "cell_type": "code",
   "execution_count": 98,
   "id": "e6ddb2c0-9c5e-4870-b83c-1afa8b3f4662",
   "metadata": {},
   "outputs": [],
   "source": [
    "df_segmentos = df[['Clus_km']]\n",
    "df_segmentos.to_excel(\"DataframeSegmentos.xlsx\", index=False)"
   ]
  },
  {
   "cell_type": "code",
   "execution_count": null,
   "id": "9713f7d3-e8dc-4580-83c5-1bd3eb29b384",
   "metadata": {},
   "outputs": [],
   "source": [
    "df_segmento3 = df[['Clus_km', 'EDAD', 'OCUPACION', 'EDUCACION' 'INGRESO', 'ESTADO_CIVIL', 'TAMAÑO_CIUDAD']]\n",
    "\n",
    "plt.figure(figsize=(20, 10))\n",
    "plt.tight_layout()\n",
    "sns.countplot(df_segmento3['EDAD'])"
   ]
  }
 ],
 "metadata": {
  "kernelspec": {
   "display_name": "Python 3",
   "language": "python",
   "name": "python3"
  },
  "language_info": {
   "codemirror_mode": {
    "name": "ipython",
    "version": 3
   },
   "file_extension": ".py",
   "mimetype": "text/x-python",
   "name": "python",
   "nbconvert_exporter": "python",
   "pygments_lexer": "ipython3",
   "version": "3.6.7rc2"
  }
 },
 "nbformat": 4,
 "nbformat_minor": 5
}
